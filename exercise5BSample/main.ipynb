{
  "cells": [
    {
      "cell_type": "markdown",
      "metadata": {
        "id": "32Xidi_sRyFE"
      },
      "source": [
        "# House Price Prediction using Multiple Linear Regression"
      ]
    },
    {
      "cell_type": "markdown",
      "metadata": {
        "id": "ERgHt1nLW7sf"
      },
      "source": [
        "<center><img src=\"https://raw.githubusercontent.com/Masterx-AI/Project_Housing_Price_Prediction_/main/hs.jpg\" style=\"width: 700px;\"/>"
      ]
    },
    {
      "cell_type": "markdown",
      "metadata": {
        "id": "CslKOQceSMfd"
      },
      "source": [
        "Description:\n",
        "\n",
        "A simple yet challenging project, to predict the housing price based on certain factors like house area, bedrooms, furnished, nearness to mainroad, etc. The dataset is small yet, it's complexity arises due to the fact that it has strong multicollinearity. Can you overcome these obstacles & build a decent predictive model?"
      ]
    },
    {
      "cell_type": "markdown",
      "metadata": {
        "id": "KOxWpCUGW7sh"
      },
      "source": [
        "## Import libraries 🐍"
      ]
    },
    {
      "cell_type": "code",
      "execution_count": null,
      "metadata": {
        "execution": {
          "iopub.execute_input": "2023-07-27T18:42:12.994698Z",
          "iopub.status.busy": "2023-07-27T18:42:12.994323Z",
          "iopub.status.idle": "2023-07-27T18:42:13.003571Z",
          "shell.execute_reply": "2023-07-27T18:42:13.002409Z",
          "shell.execute_reply.started": "2023-07-27T18:42:12.994667Z"
        },
        "id": "ga-UhOxKW7si",
        "trusted": true
      },
      "outputs": [],
      "source": [
        "import pandas as pd\n",
        "import numpy as np\n",
        "import matplotlib.pyplot as plt\n",
        "import seaborn as sns\n",
        "import statsmodels.api as sm\n",
        "\n",
        "from sklearn.metrics import r2_score\n",
        "from sklearn.model_selection import train_test_split\n",
        "from sklearn.preprocessing import MinMaxScaler, StandardScaler\n",
        "from sklearn.linear_model import LinearRegression\n",
        "from sklearn.metrics import mean_squared_error, r2_score"
      ]
    },
    {
      "cell_type": "markdown",
      "metadata": {
        "id": "aA2dC4k-W7sj"
      },
      "source": [
        "## Step 1: Understand the Dataset"
      ]
    },
    {
      "cell_type": "markdown",
      "metadata": {
        "id": "A3Vm7CdA4tcH"
      },
      "source": [
        "Load the dataset"
      ]
    },
    {
      "cell_type": "code",
      "execution_count": null,
      "metadata": {
        "execution": {
          "iopub.execute_input": "2023-07-27T18:42:13.486182Z",
          "iopub.status.busy": "2023-07-27T18:42:13.485824Z",
          "iopub.status.idle": "2023-07-27T18:42:13.498727Z",
          "shell.execute_reply": "2023-07-27T18:42:13.497062Z",
          "shell.execute_reply.started": "2023-07-27T18:42:13.486154Z"
        },
        "id": "I7DMLOCSW7sk",
        "trusted": true
      },
      "outputs": [],
      "source": [
        "df = pd.read_csv(\"house_prices.csv\")"
      ]
    },
    {
      "cell_type": "markdown",
      "metadata": {
        "id": "fdEbDowo4vPf"
      },
      "source": [
        "Show 10 random samples"
      ]
    },
    {
      "cell_type": "code",
      "execution_count": null,
      "metadata": {
        "colab": {
          "base_uri": "https://localhost:8080/",
          "height": 359
        },
        "execution": {
          "iopub.execute_input": "2023-07-27T18:42:13.523888Z",
          "iopub.status.busy": "2023-07-27T18:42:13.523268Z",
          "iopub.status.idle": "2023-07-27T18:42:13.542221Z",
          "shell.execute_reply": "2023-07-27T18:42:13.541124Z",
          "shell.execute_reply.started": "2023-07-27T18:42:13.523855Z"
        },
        "id": "oAyfNAfNW7sk",
        "outputId": "4f9aa4c9-330f-44e4-ef60-f2d9b8660bbd",
        "trusted": true
      },
      "outputs": [],
      "source": [
        "# Random 10 samples of data\n",
        "df.sample(10)"
      ]
    },
    {
      "cell_type": "markdown",
      "metadata": {
        "id": "7Yoc9apL4zva"
      },
      "source": [
        "Display dataset information"
      ]
    },
    {
      "cell_type": "code",
      "execution_count": null,
      "metadata": {
        "colab": {
          "base_uri": "https://localhost:8080/"
        },
        "execution": {
          "iopub.execute_input": "2023-07-27T18:42:13.567228Z",
          "iopub.status.busy": "2023-07-27T18:42:13.566382Z",
          "iopub.status.idle": "2023-07-27T18:42:13.578396Z",
          "shell.execute_reply": "2023-07-27T18:42:13.576943Z",
          "shell.execute_reply.started": "2023-07-27T18:42:13.567196Z"
        },
        "id": "T6jTUjXDW7sl",
        "outputId": "43ba9ea7-f970-470f-eb21-760789c4d647",
        "trusted": true
      },
      "outputs": [],
      "source": [
        "# Data Information\n",
        "df.info()"
      ]
    },
    {
      "cell_type": "markdown",
      "metadata": {
        "id": "UGWug3Gf42iO"
      },
      "source": [
        "Show dataset dimensions"
      ]
    },
    {
      "cell_type": "code",
      "execution_count": null,
      "metadata": {
        "colab": {
          "base_uri": "https://localhost:8080/"
        },
        "execution": {
          "iopub.execute_input": "2023-07-27T18:42:13.588912Z",
          "iopub.status.busy": "2023-07-27T18:42:13.587876Z",
          "iopub.status.idle": "2023-07-27T18:42:13.596952Z",
          "shell.execute_reply": "2023-07-27T18:42:13.595615Z",
          "shell.execute_reply.started": "2023-07-27T18:42:13.588869Z"
        },
        "id": "zUZ9ugwwW7sm",
        "outputId": "6e6d163b-8f9c-46cc-f9cf-bbce7a6357e6",
        "trusted": true
      },
      "outputs": [],
      "source": [
        "df.shape # data shape"
      ]
    },
    {
      "cell_type": "markdown",
      "metadata": {
        "id": "5_YcpoUq44nc"
      },
      "source": [
        "Show dataset statistical summary"
      ]
    },
    {
      "cell_type": "code",
      "execution_count": null,
      "metadata": {
        "colab": {
          "base_uri": "https://localhost:8080/",
          "height": 297
        },
        "execution": {
          "iopub.execute_input": "2023-07-27T18:42:13.636491Z",
          "iopub.status.busy": "2023-07-27T18:42:13.635223Z",
          "iopub.status.idle": "2023-07-27T18:42:13.663941Z",
          "shell.execute_reply": "2023-07-27T18:42:13.662545Z",
          "shell.execute_reply.started": "2023-07-27T18:42:13.636446Z"
        },
        "id": "MF5YSaZGW7sn",
        "outputId": "177e0c8d-b9e0-4047-88d4-69725b562ee1",
        "trusted": true
      },
      "outputs": [],
      "source": [
        "df.describe() # data stats"
      ]
    },
    {
      "cell_type": "markdown",
      "metadata": {
        "id": "8GqfNn5E48kW"
      },
      "source": [
        "Check for null values"
      ]
    },
    {
      "cell_type": "code",
      "execution_count": null,
      "metadata": {
        "colab": {
          "base_uri": "https://localhost:8080/",
          "height": 486
        },
        "execution": {
          "iopub.execute_input": "2023-07-27T18:42:13.667579Z",
          "iopub.status.busy": "2023-07-27T18:42:13.6669Z",
          "iopub.status.idle": "2023-07-27T18:42:13.677201Z",
          "shell.execute_reply": "2023-07-27T18:42:13.676508Z",
          "shell.execute_reply.started": "2023-07-27T18:42:13.66754Z"
        },
        "id": "-7nKRAf4W7sn",
        "outputId": "7d244dac-de65-4237-b095-314d8ca5fb51",
        "trusted": true
      },
      "outputs": [],
      "source": [
        "df.isnull().sum() # null values check"
      ]
    },
    {
      "cell_type": "markdown",
      "metadata": {
        "id": "fhwRPVEu4-mj"
      },
      "source": [
        "Check for duplicate values"
      ]
    },
    {
      "cell_type": "code",
      "execution_count": null,
      "metadata": {
        "colab": {
          "base_uri": "https://localhost:8080/"
        },
        "execution": {
          "iopub.execute_input": "2023-07-27T18:42:13.709475Z",
          "iopub.status.busy": "2023-07-27T18:42:13.708559Z",
          "iopub.status.idle": "2023-07-27T18:42:13.71913Z",
          "shell.execute_reply": "2023-07-27T18:42:13.71769Z",
          "shell.execute_reply.started": "2023-07-27T18:42:13.709442Z"
        },
        "id": "LeyrxDFOW7so",
        "outputId": "5f1e49be-eeae-45f7-dacc-20e5b50e0dcd",
        "trusted": true
      },
      "outputs": [],
      "source": [
        "df.duplicated().sum() # duplicate values check"
      ]
    },
    {
      "cell_type": "markdown",
      "metadata": {
        "id": "lIpxPMQ3Sa_k"
      },
      "source": [
        "## Step 2: Visualize the Dataset"
      ]
    },
    {
      "cell_type": "markdown",
      "metadata": {
        "id": "KDIRYqe4W7so"
      },
      "source": [
        "Check the relationship between area and price using a scatterplot"
      ]
    },
    {
      "cell_type": "code",
      "execution_count": null,
      "metadata": {
        "colab": {
          "base_uri": "https://localhost:8080/",
          "height": 105
        },
        "execution": {
          "iopub.execute_input": "2023-07-27T18:42:16.932498Z",
          "iopub.status.busy": "2023-07-27T18:42:16.932155Z",
          "iopub.status.idle": "2023-07-27T18:42:17.268324Z",
          "shell.execute_reply": "2023-07-27T18:42:17.267462Z",
          "shell.execute_reply.started": "2023-07-27T18:42:16.932467Z"
        },
        "id": "nFbNEoTnW7sp",
        "outputId": "91e7229d-063c-4862-91b2-cdf8d5693a29",
        "trusted": true
      },
      "outputs": [],
      "source": [
        "# Put your answer here\n",
        "sns.scatterplot(y=df['price'],x=df['area'],hue=df['furnishingstatus'])"
      ]
    },
    {
      "cell_type": "markdown",
      "metadata": {
        "id": "mZGiipnnSj1W"
      },
      "source": [
        " Check the relationships between the independent and dependent variables using `.pairplot()`"
      ]
    },
    {
      "cell_type": "code",
      "execution_count": null,
      "metadata": {
        "colab": {
          "base_uri": "https://localhost:8080/",
          "height": 105
        },
        "id": "HdhE2edGFZPH",
        "outputId": "8f94a017-e8ab-4291-b2de-1eed62c137bc"
      },
      "outputs": [],
      "source": [
        "sns.pairplot(df,hue=\"furnishingstatus\")"
      ]
    },
    {
      "cell_type": "markdown",
      "metadata": {
        "id": "gu3724duUIKI"
      },
      "source": [
        "## Step 3: Perform necessary data pre-processing"
      ]
    },
    {
      "cell_type": "markdown",
      "metadata": {
        "id": "0zYDN9VvKpxv"
      },
      "source": [
        "Create a duplicate of the original dataset"
      ]
    },
    {
      "cell_type": "code",
      "execution_count": null,
      "metadata": {
        "execution": {
          "iopub.execute_input": "2023-07-27T18:42:30.612636Z",
          "iopub.status.busy": "2023-07-27T18:42:30.612341Z",
          "iopub.status.idle": "2023-07-27T18:42:30.636774Z",
          "shell.execute_reply": "2023-07-27T18:42:30.635864Z",
          "shell.execute_reply.started": "2023-07-27T18:42:30.612612Z"
        },
        "id": "sW_qf27gW7sq",
        "trusted": true
      },
      "outputs": [],
      "source": [
        "# Put your answer here\n",
        "data=df.copy()"
      ]
    },
    {
      "cell_type": "markdown",
      "metadata": {
        "id": "rI4-DBAPUWGT"
      },
      "source": [
        "Convert the categorical columns into numbers/dummy variables by using the `get_dummies()` method.\n",
        "\n",
        "- furnishingstatus\n",
        "- mainroad\n",
        "- guestroom\n",
        "- basement\n",
        "- hotwaterheating\n",
        "- airconditioning\n",
        "- prefarea"
      ]
    },
    {
      "cell_type": "code",
      "execution_count": null,
      "metadata": {
        "id": "-710fYkfGhAa"
      },
      "outputs": [],
      "source": [
        "status = pd.get_dummies(data[['furnishingstatus','mainroad', 'guestroom', 'basement', 'hotwaterheating', 'airconditioning', 'prefarea']])"
      ]
    },
    {
      "cell_type": "markdown",
      "metadata": {
        "id": "8j5z8K4655Do"
      },
      "source": []
    },
    {
      "cell_type": "code",
      "execution_count": null,
      "metadata": {
        "colab": {
          "base_uri": "https://localhost:8080/",
          "height": 419
        },
        "id": "Ay3daLtD55mf",
        "outputId": "6b3cf916-c624-4268-9fc0-5b073e65b794"
      },
      "outputs": [],
      "source": [
        "status"
      ]
    },
    {
      "cell_type": "markdown",
      "metadata": {
        "id": "TJep7OUoJkod"
      },
      "source": [
        "Concatenate the converted columns to the dataframe copy using `.concat()`"
      ]
    },
    {
      "cell_type": "code",
      "execution_count": null,
      "metadata": {
        "id": "NlZrtzbXGkiR"
      },
      "outputs": [],
      "source": [
        "data = pd.concat([data, status], axis = 1)"
      ]
    },
    {
      "cell_type": "code",
      "execution_count": null,
      "metadata": {
        "colab": {
          "base_uri": "https://localhost:8080/",
          "height": 270
        },
        "id": "8crZk07vJC3j",
        "outputId": "8395f19f-aa5b-47c5-aeb8-4c628492ea5d"
      },
      "outputs": [],
      "source": [
        "data.head()"
      ]
    },
    {
      "cell_type": "markdown",
      "metadata": {
        "id": "788FFhKnW7sq"
      },
      "source": [
        "Remove the categorical columns using `.drop()`.\n",
        "\n",
        "- furnishingstatus\n",
        "- mainroad\n",
        "- guestroom\n",
        "- basement\n",
        "- hotwaterheating\n",
        "- airconditioning\n",
        "- prefarea"
      ]
    },
    {
      "cell_type": "code",
      "execution_count": null,
      "metadata": {
        "id": "dXFEfZ6CW7sq"
      },
      "outputs": [],
      "source": [
        "# Put your answer here\n",
        "data.drop(['furnishingstatus','mainroad', 'guestroom', 'basement', 'hotwaterheating', 'airconditioning', 'prefarea'], axis = 1, inplace = True)"
      ]
    },
    {
      "cell_type": "code",
      "execution_count": null,
      "metadata": {
        "colab": {
          "base_uri": "https://localhost:8080/",
          "height": 241
        },
        "id": "_-GpxzVCJJPs",
        "outputId": "52999cd1-a270-4c2d-dd97-50f66c0f0b85"
      },
      "outputs": [],
      "source": [
        "data.head()"
      ]
    },
    {
      "cell_type": "markdown",
      "metadata": {
        "id": "kAqUQNJeUgZh"
      },
      "source": [
        "## Step 4: Feature Selection"
      ]
    },
    {
      "cell_type": "markdown",
      "metadata": {
        "id": "GHXTK-WFUjSG"
      },
      "source": [
        "Check for multicollinearity between the features/independent variables using `.corr()`"
      ]
    },
    {
      "cell_type": "code",
      "execution_count": null,
      "metadata": {
        "colab": {
          "base_uri": "https://localhost:8080/",
          "height": 537
        },
        "id": "z_7DZ8-mP7YP",
        "outputId": "e650bf09-75d7-43e8-deff-bb52d63b962a"
      },
      "outputs": [],
      "source": [
        "# Put your answer here\n",
        "correlation = data.corr()\n",
        "correlation"
      ]
    },
    {
      "cell_type": "markdown",
      "metadata": {
        "id": "2uVAmiQQU0gD"
      },
      "source": [
        " Visualize the correlation by using a heatmap."
      ]
    },
    {
      "cell_type": "code",
      "execution_count": null,
      "metadata": {
        "colab": {
          "base_uri": "https://localhost:8080/",
          "height": 1000
        },
        "id": "p1duU_gSQA-t",
        "outputId": "b064b552-6ed2-4381-fa43-7569f8bea91a"
      },
      "outputs": [],
      "source": [
        "plt.figure(figsize=[25,20])\n",
        "sns.heatmap(correlation, annot=True, vmin=-1, vmax=1, center=0)\n",
        "plt.show()"
      ]
    },
    {
      "cell_type": "markdown",
      "metadata": {
        "id": "xK9ivmVp6puw"
      },
      "source": [
        "By looking at the matrix, choose the independent variables that you would use in your model that would help in predicting the house price.\n",
        "\n",
        "When choosing independent variables, we need to make sure that there are:\n",
        "1. No redundant multicollinear variables.\n",
        "2. All independent variables have a correlation with the dependent variable.\n",
        "\n"
      ]
    },
    {
      "cell_type": "markdown",
      "metadata": {
        "id": "x1KDG3-MWHOP"
      },
      "source": [
        "## Step 5: Building the Model"
      ]
    },
    {
      "cell_type": "code",
      "execution_count": null,
      "metadata": {},
      "outputs": [],
      "source": [
        "print(data.columns)"
      ]
    },
    {
      "cell_type": "markdown",
      "metadata": {
        "id": "ragVnZO9W7sr"
      },
      "source": [
        "Split the data set into a training and test set"
      ]
    },
    {
      "cell_type": "code",
      "execution_count": null,
      "metadata": {
        "execution": {
          "iopub.execute_input": "2023-07-27T18:42:30.638186Z",
          "iopub.status.busy": "2023-07-27T18:42:30.63788Z",
          "iopub.status.idle": "2023-07-27T18:42:30.647318Z",
          "shell.execute_reply": "2023-07-27T18:42:30.646206Z",
          "shell.execute_reply.started": "2023-07-27T18:42:30.638157Z"
        },
        "id": "_jiywljmW7sr",
        "trusted": true
      },
      "outputs": [],
      "source": [
        "# Put your answer here\n",
        "limit = 13\n",
        "at_least = 1\n",
        "steps = [1, 1, 1, 1, 1, 3, 2, 1, 2, 1, 2, 1, 2, 1, 2, 1, 2, 1, 2, 1]\n",
        "\n",
        "# Try every possible combination of columns and store it in a list\n",
        "def tryAll(columns, curr, i):\n",
        "    if (i >= len(columns)):\n",
        "        return [curr]\n",
        "    \n",
        "    res = []\n",
        "\n",
        "    # choose and move on\n",
        "    if (len(curr) < limit):\n",
        "        res += tryAll(columns, curr + [columns[i]], i+steps[i])\n",
        "    # move on\n",
        "    if (len(curr) + (len(columns) - i - 1) >= at_least):\n",
        "        res += tryAll(columns, curr, i + 1)\n",
        "\n",
        "    return res\n",
        "\n",
        "X = data.drop(['price'], axis=1)\n",
        "X_COL = tryAll([i for i in X.columns], [], 0)\n",
        "X_DATA = [data[i] for i in X_COL]\n",
        "y = data['price']\n",
        "\n",
        "splitted_res = []\n",
        "for sublist in X_DATA:\n",
        "    X_train,X_test,y_train,y_test = train_test_split(sublist,y,test_size=0.3,random_state=12353)\n",
        "    splitted_res.append([X_train,X_test,y_train,y_test])"
      ]
    },
    {
      "cell_type": "code",
      "execution_count": null,
      "metadata": {},
      "outputs": [],
      "source": [
        "print(X_COL[-45])"
      ]
    },
    {
      "cell_type": "markdown",
      "metadata": {
        "id": "wSQqMaghW7sr"
      },
      "source": [
        "Apply scaling on the independent variables in the training and test set using the `MinMaxScaler()` method."
      ]
    },
    {
      "cell_type": "code",
      "execution_count": null,
      "metadata": {
        "execution": {
          "iopub.execute_input": "2023-07-27T18:42:30.648685Z",
          "iopub.status.busy": "2023-07-27T18:42:30.648381Z",
          "iopub.status.idle": "2023-07-27T18:42:30.662743Z",
          "shell.execute_reply": "2023-07-27T18:42:30.662038Z",
          "shell.execute_reply.started": "2023-07-27T18:42:30.648662Z"
        },
        "id": "FmxqZkBNW7sr",
        "trusted": true
      },
      "outputs": [],
      "source": [
        "# Put your answer here\n",
        "# Apply scaling to all the possible columns\n",
        "scalers = [MinMaxScaler() for _ in range(len(splitted_res))]\n",
        "\n",
        "for i in range(len(splitted_res)):\n",
        "    scalers[i].fit(splitted_res[i][0])\n",
        "\n",
        "X_train_scaled_vals, X_test_scaled_vals = [], []\n",
        "for i in range(len(splitted_res)):\n",
        "    X_train_scaled_vals.append(scalers[i].transform(splitted_res[i][0]))\n",
        "    X_test_scaled_vals.append(scalers[i].transform(splitted_res[i][1]))"
      ]
    },
    {
      "cell_type": "markdown",
      "metadata": {
        "id": "gCGJL9WhWsld"
      },
      "source": [
        "Create a new dataframe containing the unscaled features"
      ]
    },
    {
      "cell_type": "code",
      "execution_count": null,
      "metadata": {
        "colab": {
          "base_uri": "https://localhost:8080/",
          "height": 241
        },
        "id": "oY6Nqh-pOOXP",
        "outputId": "69cd9498-232c-4f5f-a2d6-26d57253b4a2"
      },
      "outputs": [],
      "source": [
        "'''\n",
        "unscaled_df = pd.DataFrame(X_train, columns=X.columns)\n",
        "unscaled_df.head()\n",
        "'''"
      ]
    },
    {
      "cell_type": "markdown",
      "metadata": {
        "id": "MmAvh6gkW1Av"
      },
      "source": [
        "Create a new dataframe containing the scaled features"
      ]
    },
    {
      "cell_type": "code",
      "execution_count": null,
      "metadata": {
        "colab": {
          "base_uri": "https://localhost:8080/",
          "height": 241
        },
        "id": "Wpqxbv6XNUbN",
        "outputId": "14fd7bdf-d86e-4add-92ed-58eb072e9dfd"
      },
      "outputs": [],
      "source": [
        "'''\n",
        "scaled_df = pd.DataFrame(X_train_scaled, columns=X.columns)\n",
        "scaled_df.head()\n",
        "'''"
      ]
    },
    {
      "cell_type": "markdown",
      "metadata": {
        "id": "mD21Kj_oW7ss"
      },
      "source": [
        "Use `LinearRegression()` as our algorithm for our model"
      ]
    },
    {
      "cell_type": "code",
      "execution_count": null,
      "metadata": {
        "execution": {
          "iopub.execute_input": "2023-07-27T18:42:37.3465Z",
          "iopub.status.busy": "2023-07-27T18:42:37.345949Z",
          "iopub.status.idle": "2023-07-27T18:42:37.355685Z",
          "shell.execute_reply": "2023-07-27T18:42:37.354646Z",
          "shell.execute_reply.started": "2023-07-27T18:42:37.346466Z"
        },
        "id": "_4JmQmpVW7ss",
        "trusted": true
      },
      "outputs": [],
      "source": [
        "# Put your answer here\n",
        "models = [LinearRegression() for _ in range(len(splitted_res))]"
      ]
    },
    {
      "cell_type": "markdown",
      "metadata": {
        "id": "ed1L8U4WW7ss"
      },
      "source": [
        "Train our model using the training set."
      ]
    },
    {
      "cell_type": "code",
      "execution_count": null,
      "metadata": {
        "_kg_hide-output": true,
        "colab": {
          "base_uri": "https://localhost:8080/",
          "height": 74
        },
        "collapsed": true,
        "execution": {
          "iopub.execute_input": "2023-07-27T18:42:38.608296Z",
          "iopub.status.busy": "2023-07-27T18:42:38.6079Z",
          "iopub.status.idle": "2023-07-27T18:42:40.33535Z",
          "shell.execute_reply": "2023-07-27T18:42:40.334194Z",
          "shell.execute_reply.started": "2023-07-27T18:42:38.608266Z"
        },
        "id": "urL1c5ZBW7ss",
        "jupyter": {
          "outputs_hidden": true
        },
        "outputId": "6feeb0f0-624b-4039-f8c8-6cfb0fd8f66e",
        "trusted": true
      },
      "outputs": [],
      "source": [
        "# Put your answer here\n",
        "for i in range(len(splitted_res)):\n",
        "    models[i].fit(X_train_scaled_vals[i], splitted_res[i][2])"
      ]
    },
    {
      "cell_type": "markdown",
      "metadata": {
        "id": "LKDgmhD1W7st"
      },
      "source": [
        "Test the performance of the model using the test set"
      ]
    },
    {
      "cell_type": "code",
      "execution_count": null,
      "metadata": {
        "id": "ty6izz4DW7st"
      },
      "outputs": [],
      "source": [
        "# Put your answer here\n",
        "\n",
        "y_preds = []\n",
        "for i in range(len(splitted_res)):\n",
        "    y_preds.append(models[i].predict(X_test_scaled_vals[i]))\n"
      ]
    },
    {
      "cell_type": "markdown",
      "metadata": {
        "id": "U_Ld9nE0W7st"
      },
      "source": [
        "## Coefficient of Determination ($R^2$)\n",
        "\n",
        "Coefficient of determination is the portion of the total variation in the dependent variable that is explained by variation in the independent variable.  $R^2$ scores are calculated as below:\n",
        "\n",
        "$$ R^2 = \\frac{\\sum(\\hat{Y_i}-\\bar{Y})^2}{\\sum(Y_i-\\bar{Y})^2} $$ \n",
        "\n",
        "In statsmodel we can obtain the $R^2$ value of our model by accesing the `.rsquared` attribute of the our model."
      ]
    },
    {
      "cell_type": "code",
      "execution_count": null,
      "metadata": {
        "colab": {
          "base_uri": "https://localhost:8080/",
          "height": 692
        },
        "execution": {
          "iopub.execute_input": "2023-07-27T18:42:53.741153Z",
          "iopub.status.busy": "2023-07-27T18:42:53.740793Z",
          "iopub.status.idle": "2023-07-27T18:42:58.969754Z",
          "shell.execute_reply": "2023-07-27T18:42:58.966273Z",
          "shell.execute_reply.started": "2023-07-27T18:42:53.741122Z"
        },
        "id": "kyesTZX-W7st",
        "outputId": "a0e263b9-748a-4f09-f368-c8ad469200e8",
        "trusted": true
      },
      "outputs": [],
      "source": [
        "# Put your answer here\n",
        "olsmods = [sm.OLS(splitted_res[i][3], X_test_scaled_vals[i]).fit() for i in range(len(splitted_res))]\n",
        "\n",
        "'''\n",
        "olsmod.summary()\n",
        "'''"
      ]
    },
    {
      "cell_type": "code",
      "execution_count": null,
      "metadata": {
        "colab": {
          "base_uri": "https://localhost:8080/"
        },
        "id": "W1Qbf1iERn3n",
        "outputId": "f78a7ae8-4248-4668-b39a-6263b7d51ad1"
      },
      "outputs": [],
      "source": [
        "r_squareds = []\n",
        "\n",
        "for i in range(len(splitted_res)):\n",
        "     r_squareds.append([olsmods[i].rsquared, i])\n",
        "\n",
        "r_squareds = sorted(r_squareds, key=lambda x: x[0])"
      ]
    },
    {
      "cell_type": "markdown",
      "metadata": {},
      "source": [
        "$R^2$ range between 0 and 1, \n",
        "\n",
        "where $R^2=0$ means there are no linear relationship between the variables \n",
        "\n",
        "and \n",
        "\n",
        "$R^2=1$ shows a perfect linear relationship. \n",
        "\n",
        "In our case, we got $R^2$ score about 0.9471 which means 94.71% of our dependent variable can be explained using our independent variables."
      ]
    },
    {
      "cell_type": "code",
      "execution_count": null,
      "metadata": {},
      "outputs": [],
      "source": [
        "ans = r_squareds[-1]\n",
        "print(ans[0])\n",
        "print(X_COL[ans[1]])"
      ]
    }
  ],
  "metadata": {
    "colab": {
      "collapsed_sections": [
        "KOxWpCUGW7sh",
        "lIpxPMQ3Sa_k",
        "gu3724duUIKI"
      ],
      "provenance": []
    },
    "kernelspec": {
      "display_name": "Python 3",
      "language": "python",
      "name": "python3"
    },
    "language_info": {
      "codemirror_mode": {
        "name": "ipython",
        "version": 3
      },
      "file_extension": ".py",
      "mimetype": "text/x-python",
      "name": "python",
      "nbconvert_exporter": "python",
      "pygments_lexer": "ipython3",
      "version": "3.12.6"
    }
  },
  "nbformat": 4,
  "nbformat_minor": 0
}
