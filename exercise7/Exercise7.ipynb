{
  "cells": [
    {
      "cell_type": "markdown",
      "metadata": {
        "colab_type": "text",
        "id": "view-in-github"
      },
      "source": [
        "<a href=\"https://colab.research.google.com/github/robitussin/CCMACLRL_EXERCISES/blob/main/Exercise7.ipynb\" target=\"_parent\"><img src=\"https://colab.research.google.com/assets/colab-badge.svg\" alt=\"Open In Colab\"/></a>"
      ]
    },
    {
      "cell_type": "markdown",
      "metadata": {
        "id": "2GaQuj0Ihf9s"
      },
      "source": [
        "# Exercise 7: Hate Speech Classification using Multinomial Naive Bayes\n",
        "\n",
        "Instructions:\n",
        "- You do not need to split your data. Use the training, validation and test sets provided below.\n",
        "- Use Multinomial Naive Bayes to train a model that can classify if a sentence is a hate speech or non-hate speech\n",
        "- A sentence with a label of zero (0) is classified as non-hate speech\n",
        "- A sentence with a label of one (1) is classified as a hate speech\n",
        "\n",
        "Apply text pre-processing techniques such as\n",
        "- Converting to lowercase\n",
        "- Stop word Removal\n",
        "- Removal of digits, special characters\n",
        "- Stemming or Lemmatization but not both\n",
        "- Count Vectorizer or TF-IDF Vectorizer but not both\n",
        "\n",
        "Evaluate your model by:\n",
        "- Providing input by yourself\n",
        "- Creating a Confusion Matrix\n",
        "- Calculating the Accuracy, Precision, Recall and F1-Score"
      ]
    },
    {
      "cell_type": "code",
      "execution_count": 1,
      "metadata": {
        "id": "k7PqvnUChZy6"
      },
      "outputs": [
        {
          "name": "stderr",
          "output_type": "stream",
          "text": [
            "[nltk_data] Downloading package punkt to\n",
            "[nltk_data]     C:\\Users\\ron\\AppData\\Roaming\\nltk_data...\n",
            "[nltk_data]   Package punkt is already up-to-date!\n",
            "[nltk_data] Downloading package wordnet to\n",
            "[nltk_data]     C:\\Users\\ron\\AppData\\Roaming\\nltk_data...\n",
            "[nltk_data]   Package wordnet is already up-to-date!\n",
            "[nltk_data] Downloading package stopwords to\n",
            "[nltk_data]     C:\\Users\\ron\\AppData\\Roaming\\nltk_data...\n",
            "[nltk_data]   Package stopwords is already up-to-date!\n",
            "[nltk_data] Downloading package punkt_tab to\n",
            "[nltk_data]     C:\\Users\\ron\\AppData\\Roaming\\nltk_data...\n",
            "[nltk_data]   Package punkt_tab is already up-to-date!\n"
          ]
        },
        {
          "data": {
            "text/plain": [
              "True"
            ]
          },
          "execution_count": 1,
          "metadata": {},
          "output_type": "execute_result"
        }
      ],
      "source": [
        "import numpy as np\n",
        "import matplotlib.pyplot as plt\n",
        "import pandas as pd\n",
        "import nltk\n",
        "import seaborn as sns\n",
        "import re\n",
        "import os, types\n",
        "\n",
        "from sklearn.feature_extraction.text import CountVectorizer, TfidfVectorizer\n",
        "from sklearn.metrics import roc_auc_score, roc_curve, confusion_matrix, precision_score, recall_score, accuracy_score, balanced_accuracy_score, ConfusionMatrixDisplay\n",
        "from sklearn.model_selection import train_test_split\n",
        "from sklearn.naive_bayes import MultinomialNB\n",
        "\n",
        "from nltk.stem import WordNetLemmatizer\n",
        "from nltk.stem import PorterStemmer\n",
        "from nltk.tokenize import word_tokenize\n",
        "from nltk.corpus import stopwords\n",
        "\n",
        "nltk.download(\"punkt\")\n",
        "nltk.download('wordnet')\n",
        "nltk.download('stopwords')\n",
        "nltk.download('punkt_tab')"
      ]
    },
    {
      "cell_type": "code",
      "execution_count": 2,
      "metadata": {
        "id": "rJNoJf2gkaou"
      },
      "outputs": [],
      "source": [
        "splits = {'train': 'unique_train_dataset.csv', 'validation': 'unique_validation_dataset.csv', 'test': 'unique_test_dataset.csv'}"
      ]
    },
    {
      "cell_type": "markdown",
      "metadata": {
        "id": "LszdWP_3jN7z"
      },
      "source": [
        "**Training Set**\n",
        "\n",
        "Use this to train your model"
      ]
    },
    {
      "cell_type": "code",
      "execution_count": 3,
      "metadata": {
        "colab": {
          "base_uri": "https://localhost:8080/"
        },
        "id": "WMeIHIHWlR3-",
        "outputId": "921a0c6d-83c9-477c-dabc-ec65684ce0c8"
      },
      "outputs": [
        {
          "name": "stderr",
          "output_type": "stream",
          "text": [
            "C:\\Users\\ron\\AppData\\Local\\Packages\\PythonSoftwareFoundation.Python.3.12_qbz5n2kfra8p0\\LocalCache\\local-packages\\Python312\\site-packages\\tqdm\\auto.py:21: TqdmWarning: IProgress not found. Please update jupyter and ipywidgets. See https://ipywidgets.readthedocs.io/en/stable/user_install.html\n",
            "  from .autonotebook import tqdm as notebook_tqdm\n"
          ]
        }
      ],
      "source": [
        "df_train = pd.read_csv(\"hf://datasets/mapsoriano/2016_2022_hate_speech_filipino/\" + splits[\"train\"])"
      ]
    },
    {
      "cell_type": "markdown",
      "metadata": {
        "id": "iQIg6P7PjQBo"
      },
      "source": [
        "**Validation Set**\n",
        "\n",
        "Use this set to evaluate your model"
      ]
    },
    {
      "cell_type": "code",
      "execution_count": 4,
      "metadata": {
        "id": "VRB2t37Nk6A6"
      },
      "outputs": [],
      "source": [
        "df_validation = pd.read_csv(\"hf://datasets/mapsoriano/2016_2022_hate_speech_filipino/\" + splits[\"validation\"])"
      ]
    },
    {
      "cell_type": "markdown",
      "metadata": {
        "id": "9zDlyRsEnOSR"
      },
      "source": [
        "**Test Set**\n",
        "  \n",
        "Use this set to test your model"
      ]
    },
    {
      "cell_type": "code",
      "execution_count": 5,
      "metadata": {
        "id": "OxpoTxoilJ7e"
      },
      "outputs": [],
      "source": [
        "df_test = pd.read_csv(\"hf://datasets/mapsoriano/2016_2022_hate_speech_filipino/\" + splits[\"test\"])"
      ]
    },
    {
      "cell_type": "markdown",
      "metadata": {
        "id": "Q4mSMMNIgKhZ"
      },
      "source": [
        "## A. Understanding your training data"
      ]
    },
    {
      "cell_type": "markdown",
      "metadata": {
        "id": "h0rMaAu9gq1G"
      },
      "source": [
        "1. Check the first 10 rows of the training dataset"
      ]
    },
    {
      "cell_type": "code",
      "execution_count": 6,
      "metadata": {
        "id": "dXIzpHtzguWw"
      },
      "outputs": [
        {
          "data": {
            "text/html": [
              "<div>\n",
              "<style scoped>\n",
              "    .dataframe tbody tr th:only-of-type {\n",
              "        vertical-align: middle;\n",
              "    }\n",
              "\n",
              "    .dataframe tbody tr th {\n",
              "        vertical-align: top;\n",
              "    }\n",
              "\n",
              "    .dataframe thead th {\n",
              "        text-align: right;\n",
              "    }\n",
              "</style>\n",
              "<table border=\"1\" class=\"dataframe\">\n",
              "  <thead>\n",
              "    <tr style=\"text-align: right;\">\n",
              "      <th></th>\n",
              "      <th>text</th>\n",
              "      <th>label</th>\n",
              "    </tr>\n",
              "  </thead>\n",
              "  <tbody>\n",
              "    <tr>\n",
              "      <th>0</th>\n",
              "      <td>Presidential candidate Mar Roxas implies that ...</td>\n",
              "      <td>1</td>\n",
              "    </tr>\n",
              "    <tr>\n",
              "      <th>1</th>\n",
              "      <td>Parang may mali na sumunod ang patalastas ng N...</td>\n",
              "      <td>1</td>\n",
              "    </tr>\n",
              "    <tr>\n",
              "      <th>2</th>\n",
              "      <td>Bet ko. Pula Ang Kulay Ng Posas</td>\n",
              "      <td>1</td>\n",
              "    </tr>\n",
              "    <tr>\n",
              "      <th>3</th>\n",
              "      <td>[USERNAME] kakampink</td>\n",
              "      <td>0</td>\n",
              "    </tr>\n",
              "    <tr>\n",
              "      <th>4</th>\n",
              "      <td>Bakit parang tahimik ang mga PINK about Doc Wi...</td>\n",
              "      <td>1</td>\n",
              "    </tr>\n",
              "    <tr>\n",
              "      <th>5</th>\n",
              "      <td>\"Ang sinungaling sa umpisa ay sinungaling hang...</td>\n",
              "      <td>1</td>\n",
              "    </tr>\n",
              "    <tr>\n",
              "      <th>6</th>\n",
              "      <td>Leni Kiko</td>\n",
              "      <td>0</td>\n",
              "    </tr>\n",
              "    <tr>\n",
              "      <th>7</th>\n",
              "      <td>Nahiya si Binay sa Makati kaya dito na lang sa...</td>\n",
              "      <td>1</td>\n",
              "    </tr>\n",
              "    <tr>\n",
              "      <th>8</th>\n",
              "      <td>Another reminderHalalan</td>\n",
              "      <td>0</td>\n",
              "    </tr>\n",
              "    <tr>\n",
              "      <th>9</th>\n",
              "      <td>[USERNAME] Maybe because VP Leni Sen Kiko and ...</td>\n",
              "      <td>0</td>\n",
              "    </tr>\n",
              "  </tbody>\n",
              "</table>\n",
              "</div>"
            ],
            "text/plain": [
              "                                                text  label\n",
              "0  Presidential candidate Mar Roxas implies that ...      1\n",
              "1  Parang may mali na sumunod ang patalastas ng N...      1\n",
              "2                    Bet ko. Pula Ang Kulay Ng Posas      1\n",
              "3                               [USERNAME] kakampink      0\n",
              "4  Bakit parang tahimik ang mga PINK about Doc Wi...      1\n",
              "5  \"Ang sinungaling sa umpisa ay sinungaling hang...      1\n",
              "6                                          Leni Kiko      0\n",
              "7  Nahiya si Binay sa Makati kaya dito na lang sa...      1\n",
              "8                            Another reminderHalalan      0\n",
              "9  [USERNAME] Maybe because VP Leni Sen Kiko and ...      0"
            ]
          },
          "execution_count": 6,
          "metadata": {},
          "output_type": "execute_result"
        }
      ],
      "source": [
        "# put your answer here\n",
        "df_train.head(10)"
      ]
    },
    {
      "cell_type": "markdown",
      "metadata": {
        "id": "fqahy2swgvRP"
      },
      "source": [
        "2. Check how many rows and columns are in the training dataset using `.info()`"
      ]
    },
    {
      "cell_type": "code",
      "execution_count": 7,
      "metadata": {
        "id": "4LaHZrsghAGI"
      },
      "outputs": [
        {
          "name": "stdout",
          "output_type": "stream",
          "text": [
            "<class 'pandas.core.frame.DataFrame'>\n",
            "RangeIndex: 21773 entries, 0 to 21772\n",
            "Data columns (total 2 columns):\n",
            " #   Column  Non-Null Count  Dtype \n",
            "---  ------  --------------  ----- \n",
            " 0   text    21773 non-null  object\n",
            " 1   label   21773 non-null  int64 \n",
            "dtypes: int64(1), object(1)\n",
            "memory usage: 340.3+ KB\n"
          ]
        }
      ],
      "source": [
        "# put your answer here\n",
        "df_train.info()"
      ]
    },
    {
      "cell_type": "markdown",
      "metadata": {
        "id": "pGO5JHqpgY27"
      },
      "source": [
        "3. Check for NaN values"
      ]
    },
    {
      "cell_type": "code",
      "execution_count": 8,
      "metadata": {
        "id": "gw0ntqg4gWSl"
      },
      "outputs": [
        {
          "data": {
            "text/plain": [
              "text     0\n",
              "label    0\n",
              "dtype: int64"
            ]
          },
          "execution_count": 8,
          "metadata": {},
          "output_type": "execute_result"
        }
      ],
      "source": [
        "# put your answer here\n",
        "df_train.isnull().sum()"
      ]
    },
    {
      "cell_type": "code",
      "execution_count": 9,
      "metadata": {},
      "outputs": [
        {
          "data": {
            "text/html": [
              "<div>\n",
              "<style scoped>\n",
              "    .dataframe tbody tr th:only-of-type {\n",
              "        vertical-align: middle;\n",
              "    }\n",
              "\n",
              "    .dataframe tbody tr th {\n",
              "        vertical-align: top;\n",
              "    }\n",
              "\n",
              "    .dataframe thead th {\n",
              "        text-align: right;\n",
              "    }\n",
              "</style>\n",
              "<table border=\"1\" class=\"dataframe\">\n",
              "  <thead>\n",
              "    <tr style=\"text-align: right;\">\n",
              "      <th></th>\n",
              "      <th>text</th>\n",
              "      <th>label</th>\n",
              "    </tr>\n",
              "  </thead>\n",
              "  <tbody>\n",
              "    <tr>\n",
              "      <th>0</th>\n",
              "      <td>Presidential candidate Mar Roxas implies that ...</td>\n",
              "      <td>1</td>\n",
              "    </tr>\n",
              "    <tr>\n",
              "      <th>1</th>\n",
              "      <td>Parang may mali na sumunod ang patalastas ng N...</td>\n",
              "      <td>1</td>\n",
              "    </tr>\n",
              "    <tr>\n",
              "      <th>2</th>\n",
              "      <td>Bet ko. Pula Ang Kulay Ng Posas</td>\n",
              "      <td>1</td>\n",
              "    </tr>\n",
              "    <tr>\n",
              "      <th>3</th>\n",
              "      <td>[USERNAME] kakampink</td>\n",
              "      <td>0</td>\n",
              "    </tr>\n",
              "    <tr>\n",
              "      <th>4</th>\n",
              "      <td>Bakit parang tahimik ang mga PINK about Doc Wi...</td>\n",
              "      <td>1</td>\n",
              "    </tr>\n",
              "  </tbody>\n",
              "</table>\n",
              "</div>"
            ],
            "text/plain": [
              "                                                text  label\n",
              "0  Presidential candidate Mar Roxas implies that ...      1\n",
              "1  Parang may mali na sumunod ang patalastas ng N...      1\n",
              "2                    Bet ko. Pula Ang Kulay Ng Posas      1\n",
              "3                               [USERNAME] kakampink      0\n",
              "4  Bakit parang tahimik ang mga PINK about Doc Wi...      1"
            ]
          },
          "execution_count": 9,
          "metadata": {},
          "output_type": "execute_result"
        }
      ],
      "source": [
        "df_train.head()"
      ]
    },
    {
      "cell_type": "markdown",
      "metadata": {
        "id": "11tJwLFCgbCE"
      },
      "source": [
        "4. Check for duplicate rows"
      ]
    },
    {
      "cell_type": "code",
      "execution_count": 10,
      "metadata": {
        "id": "9rJwyKDZge6Q"
      },
      "outputs": [
        {
          "name": "stdout",
          "output_type": "stream",
          "text": [
            "Top 5 common duplicate texts are:\n"
          ]
        },
        {
          "data": {
            "text/html": [
              "<div>\n",
              "<style scoped>\n",
              "    .dataframe tbody tr th:only-of-type {\n",
              "        vertical-align: middle;\n",
              "    }\n",
              "\n",
              "    .dataframe tbody tr th {\n",
              "        vertical-align: top;\n",
              "    }\n",
              "\n",
              "    .dataframe thead th {\n",
              "        text-align: right;\n",
              "    }\n",
              "</style>\n",
              "<table border=\"1\" class=\"dataframe\">\n",
              "  <thead>\n",
              "    <tr style=\"text-align: right;\">\n",
              "      <th></th>\n",
              "    </tr>\n",
              "    <tr>\n",
              "      <th>text</th>\n",
              "    </tr>\n",
              "  </thead>\n",
              "  <tbody>\n",
              "  </tbody>\n",
              "</table>\n",
              "</div>"
            ],
            "text/plain": [
              "Empty DataFrame\n",
              "Columns: []\n",
              "Index: []"
            ]
          },
          "execution_count": 10,
          "metadata": {},
          "output_type": "execute_result"
        }
      ],
      "source": [
        "# put your answer here\n",
        "df_train['duplicates'] = np.where(df_train['text'].duplicated(keep=False), 1, 0)\n",
        "\n",
        "print('Top 5 common duplicate texts are:')\n",
        "df_train[df_train.duplicates == 1].pivot_table(index='text', values='label', aggfunc='count').head(5)"
      ]
    },
    {
      "cell_type": "markdown",
      "metadata": {
        "id": "P1twAxT9ggMp"
      },
      "source": [
        "5. Check how many rows belong to each class"
      ]
    },
    {
      "cell_type": "code",
      "execution_count": 11,
      "metadata": {
        "id": "CSFc4cFugk9h"
      },
      "outputs": [
        {
          "data": {
            "text/plain": [
              "label\n",
              "1    10994\n",
              "0    10779\n",
              "Name: count, dtype: int64"
            ]
          },
          "execution_count": 11,
          "metadata": {},
          "output_type": "execute_result"
        }
      ],
      "source": [
        "# put your answer here\n",
        "df_train['label'].value_counts()"
      ]
    },
    {
      "cell_type": "markdown",
      "metadata": {
        "id": "EVVSotUIgSuJ"
      },
      "source": [
        "## B. Text pre-processing"
      ]
    },
    {
      "cell_type": "markdown",
      "metadata": {
        "id": "h31QlJJCd22I"
      },
      "source": [
        "6. Remove duplicate rows"
      ]
    },
    {
      "cell_type": "code",
      "execution_count": 12,
      "metadata": {
        "id": "ZMaUVsgReHKP"
      },
      "outputs": [],
      "source": [
        "# put your answer here\n",
        "\n",
        "# train\n",
        "df_train_no_dup = df_train.drop_duplicates(subset=['text'], keep='first')\n",
        "\n",
        "# validation\n",
        "df_vaidation_no_dup = df_validation.drop_duplicates(subset=['text'], keep='first')\n",
        "\n",
        "# test\n",
        "df_test_no_dup = df_train.drop_duplicates(subset=['text'], keep='first')\n"
      ]
    },
    {
      "cell_type": "markdown",
      "metadata": {
        "id": "U0FJLJwueBb2"
      },
      "source": [
        "7. Remove rows with NaN values"
      ]
    },
    {
      "cell_type": "code",
      "execution_count": 13,
      "metadata": {
        "id": "pzegxzl0eKxA"
      },
      "outputs": [],
      "source": [
        "# put your answer here\n",
        "df_train_cleaned = df_train_no_dup.dropna(subset=['text'])\n",
        "df_validation_cleaned = df_vaidation_no_dup.dropna(subset=['text'])\n",
        "df_test_cleaned = df_test_no_dup.dropna(subset=['text'])"
      ]
    },
    {
      "cell_type": "markdown",
      "metadata": {
        "id": "0uEgbwrEeO0y"
      },
      "source": [
        "8. Convert all text to lowercase"
      ]
    },
    {
      "cell_type": "code",
      "execution_count": 14,
      "metadata": {
        "id": "b_TN15G4eSjV"
      },
      "outputs": [
        {
          "data": {
            "text/plain": [
              "0    presidential candidate mar roxas implies that ...\n",
              "1    parang may mali na sumunod ang patalastas ng n...\n",
              "2                      bet ko. pula ang kulay ng posas\n",
              "3                                 [username] kakampink\n",
              "4    bakit parang tahimik ang mga pink about doc wi...\n",
              "Name: lower, dtype: object"
            ]
          },
          "execution_count": 14,
          "metadata": {},
          "output_type": "execute_result"
        }
      ],
      "source": [
        "# put your answer here\n",
        "df_train_cleaned['lower'] = df_train_cleaned['text'].apply(lambda s: s.lower() if type(s) == str else s)\n",
        "df_train_cleaned['lower'].head()\n",
        "\n",
        "df_validation_cleaned['lower'] = df_validation_cleaned['text'].apply(lambda s: s.lower() if type(s) == str else s)\n",
        "df_validation_cleaned['lower'].head()\n",
        "\n",
        "df_test_cleaned['lower'] = df_test_cleaned['text'].apply(lambda s: s.lower() if type(s) == str else s)\n",
        "df_test_cleaned['lower'].head()"
      ]
    },
    {
      "cell_type": "markdown",
      "metadata": {
        "id": "dejH8IW7eU7h"
      },
      "source": [
        "9. Remove digits, URLS and special characters"
      ]
    },
    {
      "cell_type": "code",
      "execution_count": 15,
      "metadata": {
        "id": "XiPCD1mXeeP3"
      },
      "outputs": [],
      "source": [
        "# put your answer here\n",
        "df_train_cleaned['no_special'] = df_train_cleaned['lower'].apply(lambda ns: re.sub(r'https?://\\S+|[^A-Za-z\\s]', '', ns) if type(ns) == str else ns)\n",
        "\n",
        "df_validation_cleaned['no_special'] = df_validation_cleaned['lower'].apply(lambda ns: re.sub(r'https?://\\S+|[^A-Za-z\\s]', '', ns) if type(ns) == str else ns)\n",
        "\n",
        "df_test_cleaned['no_special'] = df_test_cleaned['lower'].apply(lambda ns: re.sub(r'https?://\\S+|[^A-Za-z\\s]', '', ns) if type(ns) == str else ns)"
      ]
    },
    {
      "cell_type": "markdown",
      "metadata": {
        "id": "717MNDtMedlC"
      },
      "source": [
        "10. Remove stop words"
      ]
    },
    {
      "cell_type": "code",
      "execution_count": 16,
      "metadata": {
        "id": "Y4wKDC8-eg82"
      },
      "outputs": [],
      "source": [
        "def parse_words_to_set(file_path):\n",
        "    with open(file_path, 'r') as file:\n",
        "        # Read lines, strip newline characters, and store in a set\n",
        "        word_set = {line.strip() for line in file}\n",
        "\n",
        "    return word_set\n",
        "\n",
        "# Load English stopwords and Filipino stopwords\n",
        "stop_words_english = set(stopwords.words('english'))\n",
        "stop_words_filipino = parse_words_to_set('stopwords-tl.txt')\n",
        "stop_words = stop_words_english.union(stop_words_filipino)\n",
        "\n",
        "# Function to remove stopwords from a given text\n",
        "def remove_stopwords(text):\n",
        "    words = text.split()  # Split the text into words\n",
        "    filtered_words = [word for word in words if word.lower() not in stop_words]  # Remove stopwords\n",
        "\n",
        "    return ' '.join(filtered_words)  # Join the filtered words back into a string\n",
        "\n",
        "df_train_cleaned['text_no_stop'] = df_train_cleaned['no_special'].apply(remove_stopwords)\n",
        "df_validation_cleaned['text_no_stop'] = df_validation_cleaned['no_special'].apply(remove_stopwords)\n",
        "df_test_cleaned['text_no_stop'] = df_test_cleaned['no_special'].apply(remove_stopwords)\n"
      ]
    },
    {
      "cell_type": "markdown",
      "metadata": {
        "id": "j4jPfb1_eiAA"
      },
      "source": [
        "11. Use Stemming or Lemmatization"
      ]
    },
    {
      "cell_type": "code",
      "execution_count": 17,
      "metadata": {
        "id": "Ip0oDYsviKg1"
      },
      "outputs": [],
      "source": [
        "# put your answer here\n",
        "\n",
        "def lemmatize_text(text):\n",
        "    lemmer = WordNetLemmatizer()\n",
        "    # Tokenize the text and lemmatize each word\n",
        "    lemm_tokens = [lemmer.lemmatize(word) for word in word_tokenize(text)]\n",
        "    return \" \".join(lemm_tokens)\n",
        "\n",
        "def stem_text(text):\n",
        "    porter = PorterStemmer()\n",
        "    # Tokenize the text and stem each word\n",
        "    stem_tokens = [porter.stem(word) for word in word_tokenize(text)]\n",
        "    return \" \".join(stem_tokens)\n",
        "\n",
        "df_train_cleaned['lemmatized'] =  df_train_cleaned['text_no_stop'].apply(lemmatize_text)\n",
        "df_train_cleaned['stem'] =  df_train_cleaned['text_no_stop'].apply(stem_text)\n",
        "\n",
        "df_validation_cleaned['lemmatized'] =  df_validation_cleaned['text_no_stop'].apply(lemmatize_text)\n",
        "df_validation_cleaned['stem'] =  df_train_cleaned['text_no_stop'].apply(stem_text)\n",
        "\n",
        "df_test_cleaned['lemmatized'] =  df_test_cleaned['text_no_stop'].apply(lemmatize_text)\n",
        "df_test_cleaned['stem'] =  df_train_cleaned['text_no_stop'].apply(stem_text)\n"
      ]
    },
    {
      "cell_type": "markdown",
      "metadata": {
        "id": "CHBLOTfShuZJ"
      },
      "source": [
        "## C. Training your model"
      ]
    },
    {
      "cell_type": "markdown",
      "metadata": {
        "id": "mN-fGuYCh247"
      },
      "source": [
        "12. Put all text training data in variable **X_train**"
      ]
    },
    {
      "cell_type": "code",
      "execution_count": 18,
      "metadata": {
        "id": "JpH-V0Mbh98u"
      },
      "outputs": [
        {
          "name": "stdout",
          "output_type": "stream",
          "text": [
            "0        presidential candidate mar roxas implies govt ...\n",
            "1        parang mali sumunod patalastas nescaf coffee b...\n",
            "2                                     bet pula kulay posas\n",
            "3                                       username kakampink\n",
            "4        parang tahimik pink doc willie ong reaction paper\n",
            "                               ...                        \n",
            "21768                     marcos talunan marcos magnanakaw\n",
            "21769                                 grabe kayo kay binay\n",
            "21770    username cnu ba naman hindimabibighani maamkak...\n",
            "21771    rt username tabi tabi yung nagsasabing parang ...\n",
            "21772    honestly dont get kakampinks like pano nasabi ...\n",
            "Name: lemmatized, Length: 21773, dtype: object\n"
          ]
        }
      ],
      "source": [
        "# put your answer here\n",
        "X_train = df_train_cleaned['lemmatized']\n",
        "print(X_train)"
      ]
    },
    {
      "cell_type": "markdown",
      "metadata": {
        "id": "BTIRnIgTh-fj"
      },
      "source": [
        "13. Put all training data labels in variable **y_train**"
      ]
    },
    {
      "cell_type": "code",
      "execution_count": 19,
      "metadata": {
        "id": "u5cLdnzLiDGJ"
      },
      "outputs": [
        {
          "name": "stdout",
          "output_type": "stream",
          "text": [
            "0        1\n",
            "1        1\n",
            "2        1\n",
            "3        0\n",
            "4        1\n",
            "        ..\n",
            "21768    1\n",
            "21769    0\n",
            "21770    0\n",
            "21771    1\n",
            "21772    1\n",
            "Name: label, Length: 21773, dtype: int64\n"
          ]
        }
      ],
      "source": [
        "# put your answer here\n",
        "Y_train = df_train_cleaned['label']\n",
        "print(Y_train)"
      ]
    },
    {
      "cell_type": "markdown",
      "metadata": {
        "id": "eon5IhhRewJn"
      },
      "source": [
        "14. Use `CountVectorizer()` or `TfidfVectorizer()` to convert text data to its numerical form.\n",
        "\n",
        "Put the converted data to **X_train_transformed** variable"
      ]
    },
    {
      "cell_type": "code",
      "execution_count": 20,
      "metadata": {
        "id": "b95qPmsTewfG"
      },
      "outputs": [],
      "source": [
        "# put your answer here\n",
        "CVEC = CountVectorizer()\n",
        "TFVEC = TfidfVectorizer()\n",
        "\n",
        "X_train_transformed_cv = CVEC.fit_transform(X_train)\n",
        "X_train_transformed_tf = TFVEC.fit_transform(X_train)"
      ]
    },
    {
      "cell_type": "markdown",
      "metadata": {
        "id": "OxdKojNie3ss"
      },
      "source": [
        "15. Create an instance of `MultinomalNB()`"
      ]
    },
    {
      "cell_type": "code",
      "execution_count": 21,
      "metadata": {
        "id": "jADaCXLne36S"
      },
      "outputs": [],
      "source": [
        "# put your answer here\n",
        "model = MultinomialNB(alpha=0.1)"
      ]
    },
    {
      "cell_type": "markdown",
      "metadata": {
        "id": "sQ-o0zS0iip8"
      },
      "source": [
        "16. Train the model using `.fit()`"
      ]
    },
    {
      "cell_type": "code",
      "execution_count": 22,
      "metadata": {
        "id": "18taO8Uxii5Q"
      },
      "outputs": [
        {
          "data": {
            "text/html": [
              "<style>#sk-container-id-1 {\n",
              "  /* Definition of color scheme common for light and dark mode */\n",
              "  --sklearn-color-text: black;\n",
              "  --sklearn-color-line: gray;\n",
              "  /* Definition of color scheme for unfitted estimators */\n",
              "  --sklearn-color-unfitted-level-0: #fff5e6;\n",
              "  --sklearn-color-unfitted-level-1: #f6e4d2;\n",
              "  --sklearn-color-unfitted-level-2: #ffe0b3;\n",
              "  --sklearn-color-unfitted-level-3: chocolate;\n",
              "  /* Definition of color scheme for fitted estimators */\n",
              "  --sklearn-color-fitted-level-0: #f0f8ff;\n",
              "  --sklearn-color-fitted-level-1: #d4ebff;\n",
              "  --sklearn-color-fitted-level-2: #b3dbfd;\n",
              "  --sklearn-color-fitted-level-3: cornflowerblue;\n",
              "\n",
              "  /* Specific color for light theme */\n",
              "  --sklearn-color-text-on-default-background: var(--sg-text-color, var(--theme-code-foreground, var(--jp-content-font-color1, black)));\n",
              "  --sklearn-color-background: var(--sg-background-color, var(--theme-background, var(--jp-layout-color0, white)));\n",
              "  --sklearn-color-border-box: var(--sg-text-color, var(--theme-code-foreground, var(--jp-content-font-color1, black)));\n",
              "  --sklearn-color-icon: #696969;\n",
              "\n",
              "  @media (prefers-color-scheme: dark) {\n",
              "    /* Redefinition of color scheme for dark theme */\n",
              "    --sklearn-color-text-on-default-background: var(--sg-text-color, var(--theme-code-foreground, var(--jp-content-font-color1, white)));\n",
              "    --sklearn-color-background: var(--sg-background-color, var(--theme-background, var(--jp-layout-color0, #111)));\n",
              "    --sklearn-color-border-box: var(--sg-text-color, var(--theme-code-foreground, var(--jp-content-font-color1, white)));\n",
              "    --sklearn-color-icon: #878787;\n",
              "  }\n",
              "}\n",
              "\n",
              "#sk-container-id-1 {\n",
              "  color: var(--sklearn-color-text);\n",
              "}\n",
              "\n",
              "#sk-container-id-1 pre {\n",
              "  padding: 0;\n",
              "}\n",
              "\n",
              "#sk-container-id-1 input.sk-hidden--visually {\n",
              "  border: 0;\n",
              "  clip: rect(1px 1px 1px 1px);\n",
              "  clip: rect(1px, 1px, 1px, 1px);\n",
              "  height: 1px;\n",
              "  margin: -1px;\n",
              "  overflow: hidden;\n",
              "  padding: 0;\n",
              "  position: absolute;\n",
              "  width: 1px;\n",
              "}\n",
              "\n",
              "#sk-container-id-1 div.sk-dashed-wrapped {\n",
              "  border: 1px dashed var(--sklearn-color-line);\n",
              "  margin: 0 0.4em 0.5em 0.4em;\n",
              "  box-sizing: border-box;\n",
              "  padding-bottom: 0.4em;\n",
              "  background-color: var(--sklearn-color-background);\n",
              "}\n",
              "\n",
              "#sk-container-id-1 div.sk-container {\n",
              "  /* jupyter's `normalize.less` sets `[hidden] { display: none; }`\n",
              "     but bootstrap.min.css set `[hidden] { display: none !important; }`\n",
              "     so we also need the `!important` here to be able to override the\n",
              "     default hidden behavior on the sphinx rendered scikit-learn.org.\n",
              "     See: https://github.com/scikit-learn/scikit-learn/issues/21755 */\n",
              "  display: inline-block !important;\n",
              "  position: relative;\n",
              "}\n",
              "\n",
              "#sk-container-id-1 div.sk-text-repr-fallback {\n",
              "  display: none;\n",
              "}\n",
              "\n",
              "div.sk-parallel-item,\n",
              "div.sk-serial,\n",
              "div.sk-item {\n",
              "  /* draw centered vertical line to link estimators */\n",
              "  background-image: linear-gradient(var(--sklearn-color-text-on-default-background), var(--sklearn-color-text-on-default-background));\n",
              "  background-size: 2px 100%;\n",
              "  background-repeat: no-repeat;\n",
              "  background-position: center center;\n",
              "}\n",
              "\n",
              "/* Parallel-specific style estimator block */\n",
              "\n",
              "#sk-container-id-1 div.sk-parallel-item::after {\n",
              "  content: \"\";\n",
              "  width: 100%;\n",
              "  border-bottom: 2px solid var(--sklearn-color-text-on-default-background);\n",
              "  flex-grow: 1;\n",
              "}\n",
              "\n",
              "#sk-container-id-1 div.sk-parallel {\n",
              "  display: flex;\n",
              "  align-items: stretch;\n",
              "  justify-content: center;\n",
              "  background-color: var(--sklearn-color-background);\n",
              "  position: relative;\n",
              "}\n",
              "\n",
              "#sk-container-id-1 div.sk-parallel-item {\n",
              "  display: flex;\n",
              "  flex-direction: column;\n",
              "}\n",
              "\n",
              "#sk-container-id-1 div.sk-parallel-item:first-child::after {\n",
              "  align-self: flex-end;\n",
              "  width: 50%;\n",
              "}\n",
              "\n",
              "#sk-container-id-1 div.sk-parallel-item:last-child::after {\n",
              "  align-self: flex-start;\n",
              "  width: 50%;\n",
              "}\n",
              "\n",
              "#sk-container-id-1 div.sk-parallel-item:only-child::after {\n",
              "  width: 0;\n",
              "}\n",
              "\n",
              "/* Serial-specific style estimator block */\n",
              "\n",
              "#sk-container-id-1 div.sk-serial {\n",
              "  display: flex;\n",
              "  flex-direction: column;\n",
              "  align-items: center;\n",
              "  background-color: var(--sklearn-color-background);\n",
              "  padding-right: 1em;\n",
              "  padding-left: 1em;\n",
              "}\n",
              "\n",
              "\n",
              "/* Toggleable style: style used for estimator/Pipeline/ColumnTransformer box that is\n",
              "clickable and can be expanded/collapsed.\n",
              "- Pipeline and ColumnTransformer use this feature and define the default style\n",
              "- Estimators will overwrite some part of the style using the `sk-estimator` class\n",
              "*/\n",
              "\n",
              "/* Pipeline and ColumnTransformer style (default) */\n",
              "\n",
              "#sk-container-id-1 div.sk-toggleable {\n",
              "  /* Default theme specific background. It is overwritten whether we have a\n",
              "  specific estimator or a Pipeline/ColumnTransformer */\n",
              "  background-color: var(--sklearn-color-background);\n",
              "}\n",
              "\n",
              "/* Toggleable label */\n",
              "#sk-container-id-1 label.sk-toggleable__label {\n",
              "  cursor: pointer;\n",
              "  display: block;\n",
              "  width: 100%;\n",
              "  margin-bottom: 0;\n",
              "  padding: 0.5em;\n",
              "  box-sizing: border-box;\n",
              "  text-align: center;\n",
              "}\n",
              "\n",
              "#sk-container-id-1 label.sk-toggleable__label-arrow:before {\n",
              "  /* Arrow on the left of the label */\n",
              "  content: \"▸\";\n",
              "  float: left;\n",
              "  margin-right: 0.25em;\n",
              "  color: var(--sklearn-color-icon);\n",
              "}\n",
              "\n",
              "#sk-container-id-1 label.sk-toggleable__label-arrow:hover:before {\n",
              "  color: var(--sklearn-color-text);\n",
              "}\n",
              "\n",
              "/* Toggleable content - dropdown */\n",
              "\n",
              "#sk-container-id-1 div.sk-toggleable__content {\n",
              "  max-height: 0;\n",
              "  max-width: 0;\n",
              "  overflow: hidden;\n",
              "  text-align: left;\n",
              "  /* unfitted */\n",
              "  background-color: var(--sklearn-color-unfitted-level-0);\n",
              "}\n",
              "\n",
              "#sk-container-id-1 div.sk-toggleable__content.fitted {\n",
              "  /* fitted */\n",
              "  background-color: var(--sklearn-color-fitted-level-0);\n",
              "}\n",
              "\n",
              "#sk-container-id-1 div.sk-toggleable__content pre {\n",
              "  margin: 0.2em;\n",
              "  border-radius: 0.25em;\n",
              "  color: var(--sklearn-color-text);\n",
              "  /* unfitted */\n",
              "  background-color: var(--sklearn-color-unfitted-level-0);\n",
              "}\n",
              "\n",
              "#sk-container-id-1 div.sk-toggleable__content.fitted pre {\n",
              "  /* unfitted */\n",
              "  background-color: var(--sklearn-color-fitted-level-0);\n",
              "}\n",
              "\n",
              "#sk-container-id-1 input.sk-toggleable__control:checked~div.sk-toggleable__content {\n",
              "  /* Expand drop-down */\n",
              "  max-height: 200px;\n",
              "  max-width: 100%;\n",
              "  overflow: auto;\n",
              "}\n",
              "\n",
              "#sk-container-id-1 input.sk-toggleable__control:checked~label.sk-toggleable__label-arrow:before {\n",
              "  content: \"▾\";\n",
              "}\n",
              "\n",
              "/* Pipeline/ColumnTransformer-specific style */\n",
              "\n",
              "#sk-container-id-1 div.sk-label input.sk-toggleable__control:checked~label.sk-toggleable__label {\n",
              "  color: var(--sklearn-color-text);\n",
              "  background-color: var(--sklearn-color-unfitted-level-2);\n",
              "}\n",
              "\n",
              "#sk-container-id-1 div.sk-label.fitted input.sk-toggleable__control:checked~label.sk-toggleable__label {\n",
              "  background-color: var(--sklearn-color-fitted-level-2);\n",
              "}\n",
              "\n",
              "/* Estimator-specific style */\n",
              "\n",
              "/* Colorize estimator box */\n",
              "#sk-container-id-1 div.sk-estimator input.sk-toggleable__control:checked~label.sk-toggleable__label {\n",
              "  /* unfitted */\n",
              "  background-color: var(--sklearn-color-unfitted-level-2);\n",
              "}\n",
              "\n",
              "#sk-container-id-1 div.sk-estimator.fitted input.sk-toggleable__control:checked~label.sk-toggleable__label {\n",
              "  /* fitted */\n",
              "  background-color: var(--sklearn-color-fitted-level-2);\n",
              "}\n",
              "\n",
              "#sk-container-id-1 div.sk-label label.sk-toggleable__label,\n",
              "#sk-container-id-1 div.sk-label label {\n",
              "  /* The background is the default theme color */\n",
              "  color: var(--sklearn-color-text-on-default-background);\n",
              "}\n",
              "\n",
              "/* On hover, darken the color of the background */\n",
              "#sk-container-id-1 div.sk-label:hover label.sk-toggleable__label {\n",
              "  color: var(--sklearn-color-text);\n",
              "  background-color: var(--sklearn-color-unfitted-level-2);\n",
              "}\n",
              "\n",
              "/* Label box, darken color on hover, fitted */\n",
              "#sk-container-id-1 div.sk-label.fitted:hover label.sk-toggleable__label.fitted {\n",
              "  color: var(--sklearn-color-text);\n",
              "  background-color: var(--sklearn-color-fitted-level-2);\n",
              "}\n",
              "\n",
              "/* Estimator label */\n",
              "\n",
              "#sk-container-id-1 div.sk-label label {\n",
              "  font-family: monospace;\n",
              "  font-weight: bold;\n",
              "  display: inline-block;\n",
              "  line-height: 1.2em;\n",
              "}\n",
              "\n",
              "#sk-container-id-1 div.sk-label-container {\n",
              "  text-align: center;\n",
              "}\n",
              "\n",
              "/* Estimator-specific */\n",
              "#sk-container-id-1 div.sk-estimator {\n",
              "  font-family: monospace;\n",
              "  border: 1px dotted var(--sklearn-color-border-box);\n",
              "  border-radius: 0.25em;\n",
              "  box-sizing: border-box;\n",
              "  margin-bottom: 0.5em;\n",
              "  /* unfitted */\n",
              "  background-color: var(--sklearn-color-unfitted-level-0);\n",
              "}\n",
              "\n",
              "#sk-container-id-1 div.sk-estimator.fitted {\n",
              "  /* fitted */\n",
              "  background-color: var(--sklearn-color-fitted-level-0);\n",
              "}\n",
              "\n",
              "/* on hover */\n",
              "#sk-container-id-1 div.sk-estimator:hover {\n",
              "  /* unfitted */\n",
              "  background-color: var(--sklearn-color-unfitted-level-2);\n",
              "}\n",
              "\n",
              "#sk-container-id-1 div.sk-estimator.fitted:hover {\n",
              "  /* fitted */\n",
              "  background-color: var(--sklearn-color-fitted-level-2);\n",
              "}\n",
              "\n",
              "/* Specification for estimator info (e.g. \"i\" and \"?\") */\n",
              "\n",
              "/* Common style for \"i\" and \"?\" */\n",
              "\n",
              ".sk-estimator-doc-link,\n",
              "a:link.sk-estimator-doc-link,\n",
              "a:visited.sk-estimator-doc-link {\n",
              "  float: right;\n",
              "  font-size: smaller;\n",
              "  line-height: 1em;\n",
              "  font-family: monospace;\n",
              "  background-color: var(--sklearn-color-background);\n",
              "  border-radius: 1em;\n",
              "  height: 1em;\n",
              "  width: 1em;\n",
              "  text-decoration: none !important;\n",
              "  margin-left: 1ex;\n",
              "  /* unfitted */\n",
              "  border: var(--sklearn-color-unfitted-level-1) 1pt solid;\n",
              "  color: var(--sklearn-color-unfitted-level-1);\n",
              "}\n",
              "\n",
              ".sk-estimator-doc-link.fitted,\n",
              "a:link.sk-estimator-doc-link.fitted,\n",
              "a:visited.sk-estimator-doc-link.fitted {\n",
              "  /* fitted */\n",
              "  border: var(--sklearn-color-fitted-level-1) 1pt solid;\n",
              "  color: var(--sklearn-color-fitted-level-1);\n",
              "}\n",
              "\n",
              "/* On hover */\n",
              "div.sk-estimator:hover .sk-estimator-doc-link:hover,\n",
              ".sk-estimator-doc-link:hover,\n",
              "div.sk-label-container:hover .sk-estimator-doc-link:hover,\n",
              ".sk-estimator-doc-link:hover {\n",
              "  /* unfitted */\n",
              "  background-color: var(--sklearn-color-unfitted-level-3);\n",
              "  color: var(--sklearn-color-background);\n",
              "  text-decoration: none;\n",
              "}\n",
              "\n",
              "div.sk-estimator.fitted:hover .sk-estimator-doc-link.fitted:hover,\n",
              ".sk-estimator-doc-link.fitted:hover,\n",
              "div.sk-label-container:hover .sk-estimator-doc-link.fitted:hover,\n",
              ".sk-estimator-doc-link.fitted:hover {\n",
              "  /* fitted */\n",
              "  background-color: var(--sklearn-color-fitted-level-3);\n",
              "  color: var(--sklearn-color-background);\n",
              "  text-decoration: none;\n",
              "}\n",
              "\n",
              "/* Span, style for the box shown on hovering the info icon */\n",
              ".sk-estimator-doc-link span {\n",
              "  display: none;\n",
              "  z-index: 9999;\n",
              "  position: relative;\n",
              "  font-weight: normal;\n",
              "  right: .2ex;\n",
              "  padding: .5ex;\n",
              "  margin: .5ex;\n",
              "  width: min-content;\n",
              "  min-width: 20ex;\n",
              "  max-width: 50ex;\n",
              "  color: var(--sklearn-color-text);\n",
              "  box-shadow: 2pt 2pt 4pt #999;\n",
              "  /* unfitted */\n",
              "  background: var(--sklearn-color-unfitted-level-0);\n",
              "  border: .5pt solid var(--sklearn-color-unfitted-level-3);\n",
              "}\n",
              "\n",
              ".sk-estimator-doc-link.fitted span {\n",
              "  /* fitted */\n",
              "  background: var(--sklearn-color-fitted-level-0);\n",
              "  border: var(--sklearn-color-fitted-level-3);\n",
              "}\n",
              "\n",
              ".sk-estimator-doc-link:hover span {\n",
              "  display: block;\n",
              "}\n",
              "\n",
              "/* \"?\"-specific style due to the `<a>` HTML tag */\n",
              "\n",
              "#sk-container-id-1 a.estimator_doc_link {\n",
              "  float: right;\n",
              "  font-size: 1rem;\n",
              "  line-height: 1em;\n",
              "  font-family: monospace;\n",
              "  background-color: var(--sklearn-color-background);\n",
              "  border-radius: 1rem;\n",
              "  height: 1rem;\n",
              "  width: 1rem;\n",
              "  text-decoration: none;\n",
              "  /* unfitted */\n",
              "  color: var(--sklearn-color-unfitted-level-1);\n",
              "  border: var(--sklearn-color-unfitted-level-1) 1pt solid;\n",
              "}\n",
              "\n",
              "#sk-container-id-1 a.estimator_doc_link.fitted {\n",
              "  /* fitted */\n",
              "  border: var(--sklearn-color-fitted-level-1) 1pt solid;\n",
              "  color: var(--sklearn-color-fitted-level-1);\n",
              "}\n",
              "\n",
              "/* On hover */\n",
              "#sk-container-id-1 a.estimator_doc_link:hover {\n",
              "  /* unfitted */\n",
              "  background-color: var(--sklearn-color-unfitted-level-3);\n",
              "  color: var(--sklearn-color-background);\n",
              "  text-decoration: none;\n",
              "}\n",
              "\n",
              "#sk-container-id-1 a.estimator_doc_link.fitted:hover {\n",
              "  /* fitted */\n",
              "  background-color: var(--sklearn-color-fitted-level-3);\n",
              "}\n",
              "</style><div id=\"sk-container-id-1\" class=\"sk-top-container\"><div class=\"sk-text-repr-fallback\"><pre>MultinomialNB(alpha=0.1)</pre><b>In a Jupyter environment, please rerun this cell to show the HTML representation or trust the notebook. <br />On GitHub, the HTML representation is unable to render, please try loading this page with nbviewer.org.</b></div><div class=\"sk-container\" hidden><div class=\"sk-item\"><div class=\"sk-estimator fitted sk-toggleable\"><input class=\"sk-toggleable__control sk-hidden--visually\" id=\"sk-estimator-id-1\" type=\"checkbox\" checked><label for=\"sk-estimator-id-1\" class=\"sk-toggleable__label fitted sk-toggleable__label-arrow fitted\">&nbsp;&nbsp;MultinomialNB<a class=\"sk-estimator-doc-link fitted\" rel=\"noreferrer\" target=\"_blank\" href=\"https://scikit-learn.org/1.5/modules/generated/sklearn.naive_bayes.MultinomialNB.html\">?<span>Documentation for MultinomialNB</span></a><span class=\"sk-estimator-doc-link fitted\">i<span>Fitted</span></span></label><div class=\"sk-toggleable__content fitted\"><pre>MultinomialNB(alpha=0.1)</pre></div> </div></div></div></div>"
            ],
            "text/plain": [
              "MultinomialNB(alpha=0.1)"
            ]
          },
          "execution_count": 22,
          "metadata": {},
          "output_type": "execute_result"
        }
      ],
      "source": [
        "# put your answer here\n",
        "model.fit(X_train_transformed_cv, Y_train)"
      ]
    },
    {
      "cell_type": "markdown",
      "metadata": {
        "id": "InwOEEdjjPXS"
      },
      "source": [
        "## D. Evaluate your model"
      ]
    },
    {
      "cell_type": "markdown",
      "metadata": {
        "id": "eDw6zehFizeY"
      },
      "source": [
        "17. Use `.predict()` to generate model predictions using the **validation dataset**\n",
        "\n",
        "\n",
        "- Put all text validation data in **X_validation** variable\n",
        "\n",
        "- Convert **X_validation** to its numerical form.\n",
        "\n",
        "- Put the converted data to **X_validation_transformed**\n",
        "\n",
        "- Put all predictions in **y_validation_pred** variable"
      ]
    },
    {
      "cell_type": "code",
      "execution_count": 23,
      "metadata": {
        "id": "I_HnXR5Mi6wG"
      },
      "outputs": [],
      "source": [
        "# put your answer here\n",
        "X_validation = df_validation_cleaned['lemmatized']\n",
        "\n",
        "X_validation_transformed_cv = CVEC.transform(X_validation)\n",
        "X_validation_transformed_tf = TFVEC.transform(X_validation)\n",
        "\n",
        "y_validation_pred_cv = model.predict(X_validation_transformed_cv)\n",
        "y_validation_pred_tf = model.predict(X_validation_transformed_tf)"
      ]
    },
    {
      "cell_type": "markdown",
      "metadata": {
        "id": "c4Vysvx0i7o7"
      },
      "source": [
        "18. Get the Accuracy, Precision, Recall and F1-Score of the model using the **validation dataset**\n",
        "\n",
        "- Put all validation data labels in **y_validation** variable"
      ]
    },
    {
      "cell_type": "code",
      "execution_count": 24,
      "metadata": {
        "id": "qTOquylLjEYg"
      },
      "outputs": [
        {
          "name": "stdout",
          "output_type": "stream",
          "text": [
            "Using CV: \n",
            "Accuracy: 83.18 %\n",
            "Balanced accuracy: 83.13 %\n",
            "Precision: 80.73 %\n",
            "Using TF: \n",
            "Accuracy: 81.86 %\n",
            "Balanced accuracy: 81.81 %\n",
            "Precision: 79.78 %\n"
          ]
        }
      ],
      "source": [
        "# put your answer here\n",
        "Y_validation = df_validation_cleaned['label']\n",
        "accuracy_cv = accuracy_score(Y_validation, y_validation_pred_cv)\n",
        "accuracy_tf = accuracy_score(Y_validation, y_validation_pred_tf)\n",
        "\n",
        "balanced_accuracy_cv = balanced_accuracy_score(Y_validation, y_validation_pred_cv)\n",
        "balanced_accuracy_tf = balanced_accuracy_score(Y_validation, y_validation_pred_tf)\n",
        "\n",
        "precision_cv = precision_score(Y_validation, y_validation_pred_cv)\n",
        "precision_tf = precision_score(Y_validation, y_validation_pred_tf)\n",
        "\n",
        "\n",
        "print(\"Using CV: \")\n",
        "print(\"Accuracy:\",round(100*accuracy_cv,2),'%')\n",
        "print(\"Balanced accuracy:\",round(100*balanced_accuracy_cv,2),'%')\n",
        "print(\"Precision:\", round(100*precision_cv,2),'%')\n",
        "\n",
        "print(\"Using TF: \")\n",
        "print(\"Accuracy:\",round(100*accuracy_tf,2),'%')\n",
        "print(\"Balanced accuracy:\",round(100*balanced_accuracy_tf,2),'%')\n",
        "print(\"Precision:\", round(100*precision_tf,2),'%')"
      ]
    },
    {
      "cell_type": "markdown",
      "metadata": {
        "id": "hnHNHWXUjGa6"
      },
      "source": [
        "19. Create a confusion matrix using the **validation dataset**"
      ]
    },
    {
      "cell_type": "code",
      "execution_count": 25,
      "metadata": {
        "id": "rHNBIJgJjIrw"
      },
      "outputs": [
        {
          "data": {
            "image/png": "[encoded data removed]",
            "text/plain": [
              "<Figure size 640x480 with 2 Axes>"
            ]
          },
          "metadata": {},
          "output_type": "display_data"
        }
      ],
      "source": [
        "# put your answer here\n",
        "cm = confusion_matrix(df_validation_cleaned['label'], y_validation_pred_cv)\n",
        "\n",
        " #Plot the confusion matrix.\n",
        "disp = ConfusionMatrixDisplay(confusion_matrix=cm, display_labels=model.classes_)\n",
        "disp.plot()\n",
        "plt.show()"
      ]
    },
    {
      "cell_type": "markdown",
      "metadata": {
        "id": "551pFLGwjJq5"
      },
      "source": [
        "20. Use `.predict()` to generate the model predictions using the **test dataset**\n",
        "\n",
        "\n",
        "- Put all text validation data in **X_test** variable\n",
        "\n",
        "- Convert **X_test** to its numerical form.\n",
        "\n",
        "- Put the converted data to **X_test_transformed**\n",
        "\n",
        "- Put all predictions in **y_test_pred** variable"
      ]
    },
    {
      "cell_type": "code",
      "execution_count": 26,
      "metadata": {
        "id": "PGAop3xvjZo6"
      },
      "outputs": [],
      "source": [
        "# put your answer here\n",
        "X_test = df_test_cleaned['lemmatized']\n",
        "\n",
        "X_test_transformed_cv = CVEC.transform(X_test)\n",
        "X_test_transformed_tf = TFVEC.transform(X_test)\n",
        "\n",
        "y_test_pred_cv = model.predict(X_test_transformed_cv)\n",
        "y_test_pred_tf = model.predict(X_test_transformed_tf)"
      ]
    },
    {
      "cell_type": "markdown",
      "metadata": {
        "id": "WYA239MGjZ-0"
      },
      "source": [
        "21. Get the Accuracy, Precision, Recall and F1-Score of the model using the **test dataset**\n",
        "\n",
        "- Put all test data labels in **y_validation** variable\n",
        "\n"
      ]
    },
    {
      "cell_type": "code",
      "execution_count": 27,
      "metadata": {
        "id": "cbEG7T4Gjfje"
      },
      "outputs": [
        {
          "name": "stdout",
          "output_type": "stream",
          "text": [
            "Using CV: \n",
            "Accuracy: 93.13 %\n",
            "Balanced accuracy: 93.1 %\n",
            "Precision: 90.81 %\n",
            "Using TF: \n",
            "Accuracy: 95.06 %\n",
            "Balanced accuracy: 95.03 %\n",
            "Precision: 93.08 %\n"
          ]
        }
      ],
      "source": [
        "# put your answer here\n",
        "Y_test = df_test_cleaned['label']\n",
        "accuracy_test_cv = accuracy_score(Y_test, y_test_pred_cv)\n",
        "accuracy_test_tf = accuracy_score(Y_test, y_test_pred_tf)\n",
        "\n",
        "balanced_accuracy_test_cv = balanced_accuracy_score(Y_test, y_test_pred_cv)\n",
        "balanced_accuracy_test_tf = balanced_accuracy_score(Y_test, y_test_pred_tf)\n",
        "\n",
        "precision_test_cv = precision_score(Y_test, y_test_pred_cv)\n",
        "precision_test_tf = precision_score(Y_test, y_test_pred_tf)\n",
        "\n",
        "\n",
        "print(\"Using CV: \")\n",
        "print(\"Accuracy:\",round(100*accuracy_test_cv,2),'%')\n",
        "print(\"Balanced accuracy:\",round(100*balanced_accuracy_test_cv,2),'%')\n",
        "print(\"Precision:\", round(100*precision_test_cv,2),'%')\n",
        "\n",
        "print(\"Using TF: \")\n",
        "print(\"Accuracy:\",round(100*accuracy_test_tf,2),'%')\n",
        "print(\"Balanced accuracy:\",round(100*balanced_accuracy_test_tf,2),'%')\n",
        "print(\"Precision:\", round(100*precision_test_tf,2),'%')"
      ]
    },
    {
      "cell_type": "markdown",
      "metadata": {
        "id": "aA5_85ZXjgaz"
      },
      "source": [
        "22. Create a confusion matrix using the **test dataset**"
      ]
    },
    {
      "cell_type": "code",
      "execution_count": 28,
      "metadata": {
        "id": "BklrKazHji3L"
      },
      "outputs": [
        {
          "data": {
            "image/png": "[encoded data removed]",
            "text/plain": [
              "<Figure size 640x480 with 2 Axes>"
            ]
          },
          "metadata": {},
          "output_type": "display_data"
        }
      ],
      "source": [
        "# put your answer here\n",
        "cm_test = confusion_matrix(df_test_cleaned['label'], y_test_pred_cv)\n",
        "\n",
        " #Plot the confusion matrix.\n",
        "disp = ConfusionMatrixDisplay(confusion_matrix=cm, display_labels=model.classes_)\n",
        "disp.plot()\n",
        "plt.show()"
      ]
    },
    {
      "cell_type": "markdown",
      "metadata": {
        "id": "yXT84y4upMOT"
      },
      "source": [
        "## E. Test the model"
      ]
    },
    {
      "cell_type": "markdown",
      "metadata": {
        "id": "FYtlFiBkpQHx"
      },
      "source": [
        "23. Test the model by providing a non-hate speech input. The model should predict it as 0"
      ]
    },
    {
      "cell_type": "code",
      "execution_count": 29,
      "metadata": {
        "id": "UlzOfYeBpgTH"
      },
      "outputs": [
        {
          "name": "stdout",
          "output_type": "stream",
          "text": [
            "To predict: ang saya saya ko\n",
            "Prediction:  [0]\n"
          ]
        }
      ],
      "source": [
        "# put your answer here\n",
        "to_predict = \"ang saya saya ko\"\n",
        "pred_transformed = CVEC.transform([to_predict])\n",
        "prediction = model.predict(pred_transformed)\n",
        "\n",
        "print(\"To predict: \" + to_predict)\n",
        "print(\"Prediction: \", prediction)"
      ]
    },
    {
      "cell_type": "markdown",
      "metadata": {
        "id": "4I9Y0_JiphfC"
      },
      "source": [
        "24. Test the model by providing a hate speech input. The model should predict it as 1"
      ]
    },
    {
      "cell_type": "code",
      "execution_count": 30,
      "metadata": {
        "id": "xsMkt3CKphwr"
      },
      "outputs": [
        {
          "name": "stdout",
          "output_type": "stream",
          "text": [
            "To predict: Ang init ng ulo ko ang gulo gulo ng paligid ang sarap talaga sumigaw ng putangina\n",
            "Prediction:  [1]\n"
          ]
        }
      ],
      "source": [
        "# put your answer here\n",
        "to_predict = \"Ang init ng ulo ko ang gulo gulo ng paligid ang sarap talaga sumigaw ng putangina\"\n",
        "pred_transformed = CVEC.transform([to_predict])\n",
        "prediction = model.predict(pred_transformed)\n",
        "\n",
        "print(\"To predict: \" + to_predict)\n",
        "print(\"Prediction: \", prediction)"
      ]
    }
  ],
  "metadata": {
    "colab": {
      "authorship_tag": "ABX9TyOol7DhPSmLQ7tHsNhpi55q",
      "include_colab_link": true,
      "provenance": []
    },
    "kernelspec": {
      "display_name": "Python 3",
      "name": "python3"
    },
    "language_info": {
      "codemirror_mode": {
        "name": "ipython",
        "version": 3
      },
      "file_extension": ".py",
      "mimetype": "text/x-python",
      "name": "python",
      "nbconvert_exporter": "python",
      "pygments_lexer": "ipython3",
      "version": "3.12.7"
    }
  },
  "nbformat": 4,
  "nbformat_minor": 0
}
