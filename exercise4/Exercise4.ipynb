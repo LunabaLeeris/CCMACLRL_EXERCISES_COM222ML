{
  "cells": [
    {
      "cell_type": "markdown",
      "metadata": {
        "colab_type": "text",
        "id": "view-in-github"
      },
      "source": [
        "<a href=\"https://colab.research.google.com/github/Jezreel114/CCMACLRL_EXERCISES_COM222ML-/blob/main/Exercise4.ipynb\" target=\"_parent\"><img src=\"https://colab.research.google.com/assets/colab-badge.svg\" alt=\"Open In Colab\"/></a>"
      ]
    },
    {
      "cell_type": "markdown",
      "metadata": {
        "id": "cO1C0WncMRAS"
      },
      "source": [
        "# Exercise 4\n",
        "\n",
        "**Instructions:**\n",
        "\n",
        "Build a Simple Linear Regression model to study the linear relationship between the years of experience and salary.\n",
        "\n",
        "<img src=\"https://media2.giphy.com/media/67ThRZlYBvibtdF9JH/200w.gif?cid=6c09b952x78udp8ynvf71q2iximtwq0egwludug1qo7qgla2&ep=v1_gifs_search&rid=200w.gif&ct=g\">\n"
      ]
    },
    {
      "cell_type": "markdown",
      "metadata": {
        "id": "rd1qeFsBMRAU"
      },
      "source": [
        "1. Import the necessary packages"
      ]
    },
    {
      "cell_type": "code",
      "execution_count": 240,
      "metadata": {
        "id": "dGM2K2BNMRAV"
      },
      "outputs": [],
      "source": [
        "# put your answer here\n",
        "import numpy as np\n",
        "import pandas as pd\n",
        "import matplotlib.pyplot as plt\n",
        "from sklearn.model_selection import train_test_split\n",
        "from sklearn.linear_model import LinearRegression"
      ]
    },
    {
      "cell_type": "markdown",
      "metadata": {
        "id": "y5OKSktOMRAW"
      },
      "source": [
        "2. Load the salary.csv file"
      ]
    },
    {
      "cell_type": "code",
      "execution_count": 241,
      "metadata": {
        "id": "QXYTr8lcMRAX"
      },
      "outputs": [],
      "source": [
        "# put your answer here\n",
        "df = pd.read_csv(\"salary.csv\")  "
      ]
    },
    {
      "cell_type": "markdown",
      "metadata": {
        "id": "sZCe933EMRAX"
      },
      "source": [
        "3. Print the first 5 rows of the dataset"
      ]
    },
    {
      "cell_type": "code",
      "execution_count": 242,
      "metadata": {
        "colab": {
          "base_uri": "https://localhost:8080/",
          "height": 206
        },
        "id": "tVzKKD-3MRAX",
        "outputId": "9b851ff4-ca4c-4c99-9aa8-4b0adcb44270"
      },
      "outputs": [
        {
          "data": {
            "text/html": [
              "<div>\n",
              "<style scoped>\n",
              "    .dataframe tbody tr th:only-of-type {\n",
              "        vertical-align: middle;\n",
              "    }\n",
              "\n",
              "    .dataframe tbody tr th {\n",
              "        vertical-align: top;\n",
              "    }\n",
              "\n",
              "    .dataframe thead th {\n",
              "        text-align: right;\n",
              "    }\n",
              "</style>\n",
              "<table border=\"1\" class=\"dataframe\">\n",
              "  <thead>\n",
              "    <tr style=\"text-align: right;\">\n",
              "      <th></th>\n",
              "      <th>YearsExperience</th>\n",
              "      <th>Salary</th>\n",
              "    </tr>\n",
              "  </thead>\n",
              "  <tbody>\n",
              "    <tr>\n",
              "      <th>0</th>\n",
              "      <td>1.2</td>\n",
              "      <td>39344</td>\n",
              "    </tr>\n",
              "    <tr>\n",
              "      <th>1</th>\n",
              "      <td>1.4</td>\n",
              "      <td>46206</td>\n",
              "    </tr>\n",
              "    <tr>\n",
              "      <th>2</th>\n",
              "      <td>1.6</td>\n",
              "      <td>37732</td>\n",
              "    </tr>\n",
              "    <tr>\n",
              "      <th>3</th>\n",
              "      <td>2.1</td>\n",
              "      <td>43526</td>\n",
              "    </tr>\n",
              "    <tr>\n",
              "      <th>4</th>\n",
              "      <td>2.3</td>\n",
              "      <td>39892</td>\n",
              "    </tr>\n",
              "  </tbody>\n",
              "</table>\n",
              "</div>"
            ],
            "text/plain": [
              "   YearsExperience  Salary\n",
              "0              1.2   39344\n",
              "1              1.4   46206\n",
              "2              1.6   37732\n",
              "3              2.1   43526\n",
              "4              2.3   39892"
            ]
          },
          "execution_count": 242,
          "metadata": {},
          "output_type": "execute_result"
        }
      ],
      "source": [
        "# put your answer here\n",
        "df.head()"
      ]
    },
    {
      "cell_type": "markdown",
      "metadata": {
        "id": "AA6L-SJKMRAY"
      },
      "source": [
        "4. Display the general information of the dataframe"
      ]
    },
    {
      "cell_type": "code",
      "execution_count": 243,
      "metadata": {
        "colab": {
          "base_uri": "https://localhost:8080/"
        },
        "id": "HNzWGE7aMRAY",
        "outputId": "aec277b3-ef15-4c57-97f6-4869f5b3f5c9"
      },
      "outputs": [
        {
          "name": "stdout",
          "output_type": "stream",
          "text": [
            "<class 'pandas.core.frame.DataFrame'>\n",
            "RangeIndex: 30 entries, 0 to 29\n",
            "Data columns (total 2 columns):\n",
            " #   Column           Non-Null Count  Dtype  \n",
            "---  ------           --------------  -----  \n",
            " 0   YearsExperience  30 non-null     float64\n",
            " 1   Salary           30 non-null     int64  \n",
            "dtypes: float64(1), int64(1)\n",
            "memory usage: 612.0 bytes\n"
          ]
        }
      ],
      "source": [
        "# put your answer here\n",
        "df.info()"
      ]
    },
    {
      "cell_type": "code",
      "execution_count": 244,
      "metadata": {
        "colab": {
          "base_uri": "https://localhost:8080/"
        },
        "id": "ajnnKcdQnW25",
        "outputId": "359a4630-f555-4395-af06-de000494af4a"
      },
      "outputs": [
        {
          "data": {
            "text/plain": [
              "30"
            ]
          },
          "execution_count": 244,
          "metadata": {},
          "output_type": "execute_result"
        }
      ],
      "source": [
        "df.shape[0]"
      ]
    },
    {
      "cell_type": "markdown",
      "metadata": {
        "id": "3FTnPu21MRAY"
      },
      "source": [
        "5. Visualize the data by creating a scatter plot"
      ]
    },
    {
      "cell_type": "code",
      "execution_count": 245,
      "metadata": {
        "colab": {
          "base_uri": "https://localhost:8080/",
          "height": 467
        },
        "id": "vpuKzGodMRAZ",
        "outputId": "8ede445b-671d-4274-896e-9a5acebcff1d"
      },
      "outputs": [
        {
          "data": {
            "text/plain": [
              "<Axes: xlabel='YearsExperience', ylabel='Salary'>"
            ]
          },
          "execution_count": 245,
          "metadata": {},
          "output_type": "execute_result"
        },
        {
          "data": {
            "image/png": "[encoded data removed]",
            "text/plain": [
              "<Figure size 640x480 with 1 Axes>"
            ]
          },
          "metadata": {},
          "output_type": "display_data"
        }
      ],
      "source": [
        "# put your answer here\n",
        "df.plot(x='YearsExperience',y='Salary',kind='scatter')"
      ]
    },
    {
      "cell_type": "markdown",
      "metadata": {
        "id": "Wc732FeFMRAZ"
      },
      "source": [
        "6. Split the dataset into a training set and test set"
      ]
    },
    {
      "cell_type": "code",
      "execution_count": 246,
      "metadata": {
        "id": "QXe9ZyMeMRAa"
      },
      "outputs": [],
      "source": [
        "# put answer here\n",
        "X = df['YearsExperience'].values\n",
        "y = df['Salary'].values\n",
        "\n",
        "# Reshape X from a one dimensional array into a two dimensional array\n",
        "X = X.reshape(-1,1)\n",
        "\n",
        "# Reshape X from a one dimensional array into a two dimensional array\n",
        "y = y.reshape(-1,1)"
      ]
    },
    {
      "cell_type": "markdown",
      "metadata": {
        "id": "--NT4cAlMRAa"
      },
      "source": [
        "7. Create an new instance of a linear regression model"
      ]
    },
    {
      "cell_type": "code",
      "execution_count": 247,
      "metadata": {
        "colab": {
          "base_uri": "https://localhost:8080/"
        },
        "id": "KsfbDTmEMRAa",
        "outputId": "df1f42ec-f480-4518-8b2c-c1a5dddf8e6c"
      },
      "outputs": [
        {
          "name": "stdout",
          "output_type": "stream",
          "text": [
            "(20, 1)\n",
            "(20, 1)\n",
            "(10, 1)\n",
            "(10, 1)\n"
          ]
        }
      ],
      "source": [
        "# put your answer here\n",
        "X_train,X_test,y_train,y_test = train_test_split(X, y, test_size=0.33, random_state=42)\n",
        "print(X_train.shape)\n",
        "print(y_train.shape)\n",
        "print(X_test.shape)\n",
        "print(y_test.shape)"
      ]
    },
    {
      "cell_type": "markdown",
      "metadata": {
        "id": "Br8TaXjPMRAb"
      },
      "source": [
        "8. Train and test the model using the training set and test set"
      ]
    },
    {
      "cell_type": "code",
      "execution_count": 248,
      "metadata": {
        "id": "IbY2HJYoMRAb"
      },
      "outputs": [],
      "source": [
        "# put your answer here\n",
        "# Create an instance the linear regression class\n",
        "lr_model = LinearRegression()\n",
        "\n",
        "# Train the model using training data sets\n",
        "lr_model.fit(X_train,y_train)\n",
        "\n",
        "# Predict on the test data\n",
        "y_pred = lr_model.predict(X_test)"
      ]
    },
    {
      "cell_type": "markdown",
      "metadata": {
        "id": "IUpJhUafMRAc"
      },
      "source": [
        "9. Print the equation of the line\n",
        "\n",
        "- Display the slope\n",
        "- Display the intercept\n",
        "- Display the equation of the line"
      ]
    },
    {
      "cell_type": "code",
      "execution_count": 249,
      "metadata": {
        "colab": {
          "base_uri": "https://localhost:8080/"
        },
        "id": "hedilrj2MRAc",
        "outputId": "ff436fd3-415c-47d2-93a0-d0ac2741e979"
      },
      "outputs": [
        {
          "name": "stdout",
          "output_type": "stream",
          "text": [
            "b =  24382.731502336872\n",
            "m =  9426.038769074832\n",
            "y =  9426.038769074832 * x +  24382.731502336872\n"
          ]
        }
      ],
      "source": [
        "# put your answer here\n",
        "# Slope\n",
        "m = lr_model.coef_[0]\n",
        "m = m[0]\n",
        "\n",
        "# Intercept\n",
        "b = lr_model.intercept_[0]\n",
        "\n",
        "print(\"b = \", b)\n",
        "print(\"m = \", m)\n",
        "print(\"y = \", m, \"* x + \", b)"
      ]
    },
    {
      "cell_type": "markdown",
      "metadata": {
        "id": "Z1GBgR7jMRAd"
      },
      "source": [
        "10. Draw the Regression Line"
      ]
    },
    {
      "cell_type": "code",
      "execution_count": 250,
      "metadata": {
        "colab": {
          "base_uri": "https://localhost:8080/",
          "height": 472
        },
        "id": "ZA4uXSSpMRAd",
        "outputId": "44c4b003-2f02-40fa-f0fc-27603f05f146"
      },
      "outputs": [
        {
          "data": {
            "image/png": "[encoded data removed]",
            "text/plain": [
              "<Figure size 640x480 with 1 Axes>"
            ]
          },
          "metadata": {},
          "output_type": "display_data"
        }
      ],
      "source": [
        "# put your answer here\n",
        "plt.scatter(X, y, color = 'blue', label='Data Points')\n",
        "plt.plot(X_test, y_pred, color = 'red', linewidth=3, label = 'Regression Line')\n",
        "plt.title('Relationship between salary and years experience')\n",
        "plt.xlabel('Years')\n",
        "plt.ylabel('Salary')\n",
        "plt.legend(loc=4)\n",
        "plt.show()"
      ]
    },
    {
      "cell_type": "markdown",
      "metadata": {
        "id": "5L2fTjqzMRAe"
      },
      "source": [
        "11. Compute the Sum of Square Error (SSE)"
      ]
    },
    {
      "cell_type": "code",
      "execution_count": 251,
      "metadata": {
        "colab": {
          "base_uri": "https://localhost:8080/",
          "height": 206
        },
        "id": "iuV_mU3mMRAe",
        "outputId": "1c8d62c7-74e5-416e-e0c1-8e89e5f56073"
      },
      "outputs": [
        {
          "data": {
            "text/html": [
              "<div>\n",
              "<style scoped>\n",
              "    .dataframe tbody tr th:only-of-type {\n",
              "        vertical-align: middle;\n",
              "    }\n",
              "\n",
              "    .dataframe tbody tr th {\n",
              "        vertical-align: top;\n",
              "    }\n",
              "\n",
              "    .dataframe thead th {\n",
              "        text-align: right;\n",
              "    }\n",
              "</style>\n",
              "<table border=\"1\" class=\"dataframe\">\n",
              "  <thead>\n",
              "    <tr style=\"text-align: right;\">\n",
              "      <th></th>\n",
              "      <th>Actual_Salary</th>\n",
              "      <th>Predicted_Salary</th>\n",
              "    </tr>\n",
              "  </thead>\n",
              "  <tbody>\n",
              "    <tr>\n",
              "      <th>0</th>\n",
              "      <td>112636</td>\n",
              "      <td>115815.307562</td>\n",
              "    </tr>\n",
              "    <tr>\n",
              "      <th>1</th>\n",
              "      <td>67939</td>\n",
              "      <td>71512.925348</td>\n",
              "    </tr>\n",
              "    <tr>\n",
              "      <th>2</th>\n",
              "      <td>113813</td>\n",
              "      <td>102618.853286</td>\n",
              "    </tr>\n",
              "    <tr>\n",
              "      <th>3</th>\n",
              "      <td>83089</td>\n",
              "      <td>75283.340855</td>\n",
              "    </tr>\n",
              "    <tr>\n",
              "      <th>4</th>\n",
              "      <td>64446</td>\n",
              "      <td>55488.659440</td>\n",
              "    </tr>\n",
              "  </tbody>\n",
              "</table>\n",
              "</div>"
            ],
            "text/plain": [
              "   Actual_Salary  Predicted_Salary\n",
              "0         112636     115815.307562\n",
              "1          67939      71512.925348\n",
              "2         113813     102618.853286\n",
              "3          83089      75283.340855\n",
              "4          64446      55488.659440"
            ]
          },
          "execution_count": 251,
          "metadata": {},
          "output_type": "execute_result"
        }
      ],
      "source": [
        "# put your answer here\n",
        "# Reshape y_test from a two dimensional array back to a one dimensional array\n",
        "y_test = y_test.reshape(-1)\n",
        "\n",
        "# Reshape y_pred from a two dimensional array back to a one dimensional array\n",
        "y_pred = y_pred.reshape(-1)\n",
        "\n",
        "df1 = pd.DataFrame({'Actual_Salary': y_test, 'Predicted_Salary':y_pred})\n",
        "df1.head()"
      ]
    },
    {
      "cell_type": "code",
      "execution_count": 252,
      "metadata": {
        "colab": {
          "base_uri": "https://localhost:8080/"
        },
        "id": "GlbfF06Zoe8d",
        "outputId": "a1a868a8-531c-4c40-da01-ab3f02b00431"
      },
      "outputs": [
        {
          "name": "stdout",
          "output_type": "stream",
          "text": [
            "residual sum of squares is :  353018988.87134814\n"
          ]
        }
      ],
      "source": [
        "sum_of_squared_errors = str(np.sum(np.square(df1['Actual_Salary'] - df1['Predicted_Salary'])))\n",
        "\n",
        "print('residual sum of squares is : ', sum_of_squared_errors)"
      ]
    },
    {
      "cell_type": "code",
      "execution_count": 253,
      "metadata": {
        "colab": {
          "base_uri": "https://localhost:8080/"
        },
        "id": "pFUjBn9IrLzc",
        "outputId": "44041244-35ee-4f8f-b7c6-182e55b7ee18"
      },
      "outputs": [
        {
          "name": "stdout",
          "output_type": "stream",
          "text": [
            "[[62086.88657864]]\n"
          ]
        }
      ],
      "source": [
        "predicted_value = lr_model.predict([[4]])\n",
        "print(predicted_value)"
      ]
    },
    {
      "cell_type": "markdown",
      "metadata": {
        "id": "-2CqCeWTsTdU"
      },
      "source": [
        "Graph with prediction"
      ]
    },
    {
      "cell_type": "code",
      "execution_count": 254,
      "metadata": {
        "colab": {
          "base_uri": "https://localhost:8080/",
          "height": 472
        },
        "id": "wiE_pYvcsS50",
        "outputId": "52d2c18e-aaff-4eee-f3d7-8948f0dc84c9"
      },
      "outputs": [
        {
          "data": {
            "image/png": "[encoded data removed]",
            "text/plain": [
              "<Figure size 640x480 with 1 Axes>"
            ]
          },
          "metadata": {},
          "output_type": "display_data"
        }
      ],
      "source": [
        "# put your answer here\n",
        "plt.scatter(X, y, color = 'blue', label='Data Points')\n",
        "plt.plot(X_test, y_pred, color = 'red', linewidth=3, label = 'Regression Line')\n",
        "plt.title('Relationship between salary and years experience')\n",
        "plt.xlabel('Years')\n",
        "plt.ylabel('Salary')\n",
        "\n",
        "plt.plot(4, predicted_value, marker=\"o\", markersize=15, markeredgecolor=\"green\", markerfacecolor=\"yellow\", label=\"prediction\")\n",
        "plt.plot(4, y_test[4], marker=\"o\", markersize=15, markeredgecolor=\"red\", markerfacecolor=\"orange\", label=\"actual value\")\n",
        "plt.legend(loc=4)\n",
        "plt.show()"
      ]
    }
  ],
  "metadata": {
    "colab": {
      "include_colab_link": true,
      "provenance": []
    },
    "kernelspec": {
      "display_name": "Python 3",
      "language": "python",
      "name": "python3"
    },
    "language_info": {
      "codemirror_mode": {
        "name": "ipython",
        "version": 3
      },
      "file_extension": ".py",
      "mimetype": "text/x-python",
      "name": "python",
      "nbconvert_exporter": "python",
      "pygments_lexer": "ipython3",
      "version": "3.12.5"
    },
    "orig_nbformat": 4
  },
  "nbformat": 4,
  "nbformat_minor": 0
}
